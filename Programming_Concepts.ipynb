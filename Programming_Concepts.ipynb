{
 "cells": [
  {
   "cell_type": "markdown",
   "metadata": {},
   "source": [
    "# Programming Concepts\n",
    "\n",
    "I think it's important to have a reference for some programming things, namely:\n",
    "\n",
    "* Classes/objects\n",
    "* Unit tests\n",
    "* Packages\n",
    "* Functions\n",
    "\n",
    "I'll start with the classes and see how far I get."
   ]
  },
  {
   "cell_type": "code",
   "execution_count": 1,
   "metadata": {},
   "outputs": [],
   "source": [
    "# Imports"
   ]
  },
  {
   "cell_type": "markdown",
   "metadata": {},
   "source": [
    "## Classes and Objects\n",
    "\n",
    "Refresher: a class is a type of thing, an object is an instance of that thing. \n",
    "\n",
    "Making a class in Python should involve:\n",
    "\n",
    "* Class itself\n",
    "* Construtor (init)\n",
    "* Some main function"
   ]
  },
  {
   "cell_type": "markdown",
   "metadata": {},
   "source": [
    "### Simple creation\n",
    "\n",
    "I'm simply going to make a class that has a property (y = 5). Then I'll quickly use it. This is an attribute/property of the class and is accessed without any parentheses (e.g. `np.shape`)"
   ]
  },
  {
   "cell_type": "code",
   "execution_count": 2,
   "metadata": {},
   "outputs": [
    {
     "name": "stdout",
     "output_type": "stream",
     "text": [
      "5\n"
     ]
    }
   ],
   "source": [
    "# Make a simple class\n",
    "class DumbClass:\n",
    "    y = 5\n",
    "\n",
    "# Create an instance of the class\n",
    "myDumbClass = DumbClass()\n",
    "print(myDumbClass.y)"
   ]
  },
  {
   "cell_type": "markdown",
   "metadata": {},
   "source": [
    "### Constructor Function\n",
    "\n",
    "The `__init__()` function constructs the object. Some notes on that:\n",
    "\n",
    "* Accepts itself (**self**) as a parameter. This is akin to dot notation (e.g. `.Trena`) from R\n",
    "* Accepts other arguments after itself as a parameter; this would be like making an object with arguments (e.g. `Trena(genomeA, genomeB)`)\n",
    "* Like other methods of the class, it's defined with a function (`def....:`)"
   ]
  },
  {
   "cell_type": "code",
   "execution_count": 4,
   "metadata": {},
   "outputs": [
    {
     "name": "stdout",
     "output_type": "stream",
     "text": [
      "Ishaan is 27 years old\n",
      "Matt is 30 years old\n"
     ]
    }
   ],
   "source": [
    "# Make a less dumb class with a constructor\n",
    "class PersonClass:\n",
    "    def __init__(self, name = 'Matt', age = 30): # Give a default name and age, just for kicks\n",
    "        self.name = name\n",
    "        self.age = age\n",
    "        \n",
    "# Specify the arguments to the constructor\n",
    "person1 = PersonClass('Ishaan', 27)\n",
    "print('{} is {} years old'.format(person1.name, person1.age))\n",
    "\n",
    "# Now just use the defaults\n",
    "person2 = PersonClass()\n",
    "print('{} is {} years old'.format(person2.name, person2.age))"
   ]
  },
  {
   "cell_type": "markdown",
   "metadata": {},
   "source": [
    "### Other Functions (Methods)\n",
    "\n",
    "Like the constructor function, I can make methods using function notation. These are accessed with parentheses, using dot notation:"
   ]
  },
  {
   "cell_type": "code",
   "execution_count": 5,
   "metadata": {},
   "outputs": [
    {
     "name": "stdout",
     "output_type": "stream",
     "text": [
      "Ishaan is 27 years old\n",
      "Matt is 30 years old\n"
     ]
    }
   ],
   "source": [
    "# Make the person class into something that has the function built in\n",
    "class PersonClass:\n",
    "    def __init__(self, name = 'Matt', age = 30): # Give a default name and age, just for kicks\n",
    "        self.name = name\n",
    "        self.age = age\n",
    "        \n",
    "    # Define a method for printing the name and age\n",
    "    def describePerson(self):\n",
    "        print('{} is {} years old'.format(self.name, self.age))\n",
    "        \n",
    "# Now make Ishaan and Matt again, but print their info with the method\n",
    "person1 = PersonClass('Ishaan', 27)\n",
    "person2 = PersonClass()\n",
    "\n",
    "person1.describePerson()\n",
    "person2.describePerson()"
   ]
  },
  {
   "cell_type": "markdown",
   "metadata": {},
   "source": [
    "## Inheritance\n",
    "\n",
    "This one is fairly intuitive; a class can effectively be a subclass of another class. So for instance, I can now make 2 subclasses from Person: \n",
    "\n",
    "* Teacher: has a degree \n",
    "* Student: has a Hogwarts house\n",
    "\n",
    "Let's do that!"
   ]
  },
  {
   "cell_type": "code",
   "execution_count": 7,
   "metadata": {},
   "outputs": [],
   "source": [
    "# Make the teacher class inherit the Person class\n",
    "class Teacher(PersonClass):\n",
    "    def __init__(self, name='Matt',age= 30, degree='ChemE'):\n",
    "        self.name = name\n",
    "        self.age = age\n",
    "        self.degree = degree\n",
    "    \n",
    "    # Make a method that describes the teacher\n",
    "    def describeTeacher(self):\n",
    "        print('{} is {} years old with a degree in {}'.format(self.name, self.age, self.degree))    "
   ]
  },
  {
   "cell_type": "markdown",
   "metadata": {},
   "source": [
    "Now show the 2 different methods with the default:"
   ]
  },
  {
   "cell_type": "code",
   "execution_count": 10,
   "metadata": {},
   "outputs": [
    {
     "name": "stdout",
     "output_type": "stream",
     "text": [
      "Matt is 30 years old\n",
      "Matt is 30 years old with a degree in ChemE\n"
     ]
    }
   ],
   "source": [
    "teacher1 = Teacher()\n",
    "teacher1.describePerson()\n",
    "teacher1.describeTeacher()"
   ]
  },
  {
   "cell_type": "markdown",
   "metadata": {},
   "source": [
    "Now let's do student"
   ]
  },
  {
   "cell_type": "code",
   "execution_count": 12,
   "metadata": {},
   "outputs": [],
   "source": [
    "# Make the teacher class inherit the Person class\n",
    "class Student(PersonClass):\n",
    "    def __init__(self, name='Matt',age= 30, house='Gryffindor'):\n",
    "        self.name = name\n",
    "        self.age = age\n",
    "        self.house = house\n",
    "    \n",
    "    # Make a method that describes the teacher\n",
    "    def describeStudent(self):\n",
    "        print('{} is {} years old and in House {}'.format(self.name, self.age, self.house))    "
   ]
  },
  {
   "cell_type": "markdown",
   "metadata": {},
   "source": [
    "Now show the 2 different methods again:"
   ]
  },
  {
   "cell_type": "code",
   "execution_count": 13,
   "metadata": {},
   "outputs": [
    {
     "name": "stdout",
     "output_type": "stream",
     "text": [
      "Matt is 30 years old\n",
      "Matt is 30 years old and in House Gryffindor\n"
     ]
    }
   ],
   "source": [
    "student1 = Student()\n",
    "student1.describePerson()\n",
    "student1.describeStudent()"
   ]
  },
  {
   "cell_type": "markdown",
   "metadata": {},
   "source": [
    "# Functional Programming\n",
    "\n",
    "Some things I want to hit on:\n",
    "\n",
    "* Good program formatting:\n",
    "    * The `main` function and how to use it"
   ]
  },
  {
   "cell_type": "markdown",
   "metadata": {},
   "source": [
    "## Using `main` function\n",
    "\n",
    "If we're creating a script, we often want it to do a thing when we call it (e.g. `python myProgram.py` should do a thing that makes output or something). To do that:\n",
    "\n",
    "* Create a main() function (that's just convention, name it whatever, but probably just call it `main()`)\n",
    "* Add a line that tells it what to do if it's called by the command line\n",
    "\n",
    "Here's what that would look like:"
   ]
  },
  {
   "cell_type": "code",
   "execution_count": null,
   "metadata": {},
   "outputs": [],
   "source": [
    "# Define a main function"
   ]
  }
 ],
 "metadata": {
  "kernelspec": {
   "display_name": "Python 3",
   "language": "python",
   "name": "python3"
  },
  "language_info": {
   "codemirror_mode": {
    "name": "ipython",
    "version": 3
   },
   "file_extension": ".py",
   "mimetype": "text/x-python",
   "name": "python",
   "nbconvert_exporter": "python",
   "pygments_lexer": "ipython3",
   "version": "3.6.5"
  }
 },
 "nbformat": 4,
 "nbformat_minor": 2
}
