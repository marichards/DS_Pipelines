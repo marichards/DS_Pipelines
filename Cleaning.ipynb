{
 "cells": [
  {
   "cell_type": "markdown",
   "metadata": {},
   "source": [
    "# Cleaning Data\n",
    "\n",
    "This notebook is all about the meat of data science: evaluating and cleaning data. It covers a wide swath of different things and I expect it will be my most-referenced notebook. I also expect it to grow a lot with time, as I encounter different situations that require novel approaches to what is contained here. \n",
    "\n",
    "For now, these are the basic sections:\n",
    "\n",
    "* Selecting/dropping and adding new columns\n",
    "* Dealing with missing values\n",
    "* Combining and separating\n",
    "* Applying, mapping, and transforming\n",
    "* Grouping and Aggregation\n",
    "* Melting and Pivoting\n",
    "* Date/time data\n",
    "* Using dfply (maybe)\n",
    "\n",
    "I'm likely to need a bunch of datasets to get things that are messed up enough for some of these things. I think the titanic dataset will do! I'll load my necessary libraries and that dataset before proceeding:"
   ]
  },
  {
   "cell_type": "code",
   "execution_count": 1,
   "metadata": {},
   "outputs": [
    {
     "name": "stdout",
     "output_type": "stream",
     "text": [
      "<class 'pandas.core.frame.DataFrame'>\n",
      "RangeIndex: 891 entries, 0 to 890\n",
      "Data columns (total 15 columns):\n",
      "survived       891 non-null int64\n",
      "pclass         891 non-null int64\n",
      "sex            891 non-null object\n",
      "age            714 non-null float64\n",
      "sibsp          891 non-null int64\n",
      "parch          891 non-null int64\n",
      "fare           891 non-null float64\n",
      "embarked       889 non-null object\n",
      "class          891 non-null category\n",
      "who            891 non-null object\n",
      "adult_male     891 non-null bool\n",
      "deck           203 non-null category\n",
      "embark_town    889 non-null object\n",
      "alive          891 non-null object\n",
      "alone          891 non-null bool\n",
      "dtypes: bool(2), category(2), float64(2), int64(4), object(5)\n",
      "memory usage: 80.6+ KB\n",
      "None\n"
     ]
    }
   ],
   "source": [
    "# Load libraries\n",
    "import pandas as pd\n",
    "import numpy as np\n",
    "import seaborn as sns\n",
    "\n",
    "# Load the seaborn titanic dataset\n",
    "titanic = sns.load_dataset('titanic')\n",
    "print(titanic.info())"
   ]
  },
  {
   "cell_type": "code",
   "execution_count": null,
   "metadata": {},
   "outputs": [],
   "source": []
  }
 ],
 "metadata": {
  "kernelspec": {
   "display_name": "Python 3",
   "language": "python",
   "name": "python3"
  },
  "language_info": {
   "codemirror_mode": {
    "name": "ipython",
    "version": 3
   },
   "file_extension": ".py",
   "mimetype": "text/x-python",
   "name": "python",
   "nbconvert_exporter": "python",
   "pygments_lexer": "ipython3",
   "version": "3.6.6"
  }
 },
 "nbformat": 4,
 "nbformat_minor": 2
}
