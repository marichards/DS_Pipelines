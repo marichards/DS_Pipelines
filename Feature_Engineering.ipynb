{
 "cells": [
  {
   "cell_type": "markdown",
   "metadata": {},
   "source": [
    "# Feature Engineering\n",
    "\n",
    "Here, I'll explore some strategies for engineering features. This includes:\n",
    "\n",
    "* Dealing with categorical variables\n",
    "* Dealing with colinearity\n",
    "\n",
    "I haven't figured out what to do yet; stay tuned!"
   ]
  },
  {
   "cell_type": "code",
   "execution_count": 34,
   "metadata": {},
   "outputs": [],
   "source": [
    "# Import some useful libraries\n",
    "import pandas as pd\n",
    "import numpy as np\n",
    "import matplotlib.pyplot as plt\n",
    "import seaborn as sns\n",
    "from scipy import stats\n",
    "\n",
    "# Import various things from sklearn\n",
    "from sklearn.model_selection import cross_val_score"
   ]
  },
  {
   "cell_type": "markdown",
   "metadata": {},
   "source": [
    "## Dealing with Counts\n",
    "\n",
    "Oftentimes raw numbers or counts aren't useful, maybe because:\n",
    "\n",
    "* Long tail; most counts are low, but a few might be really high\n",
    "* Other??\n",
    "\n",
    "Here's bits on how to deal with them; first I'll load the data (Online Popularity data) and inspect the counts"
   ]
  },
  {
   "cell_type": "code",
   "execution_count": 4,
   "metadata": {},
   "outputs": [
    {
     "name": "stdout",
     "output_type": "stream",
     "text": [
      "<class 'pandas.core.frame.DataFrame'>\n",
      "RangeIndex: 39644 entries, 0 to 39643\n",
      "Data columns (total 61 columns):\n",
      "url                              39644 non-null object\n",
      "timedelta                        39644 non-null float64\n",
      "n_tokens_title                   39644 non-null float64\n",
      "n_tokens_content                 39644 non-null float64\n",
      "n_unique_tokens                  39644 non-null float64\n",
      "n_non_stop_words                 39644 non-null float64\n",
      "n_non_stop_unique_tokens         39644 non-null float64\n",
      "num_hrefs                        39644 non-null float64\n",
      "num_self_hrefs                   39644 non-null float64\n",
      "num_imgs                         39644 non-null float64\n",
      "num_videos                       39644 non-null float64\n",
      "average_token_length             39644 non-null float64\n",
      "num_keywords                     39644 non-null float64\n",
      "data_channel_is_lifestyle        39644 non-null float64\n",
      "data_channel_is_entertainment    39644 non-null float64\n",
      "data_channel_is_bus              39644 non-null float64\n",
      "data_channel_is_socmed           39644 non-null float64\n",
      "data_channel_is_tech             39644 non-null float64\n",
      "data_channel_is_world            39644 non-null float64\n",
      "kw_min_min                       39644 non-null float64\n",
      "kw_max_min                       39644 non-null float64\n",
      "kw_avg_min                       39644 non-null float64\n",
      "kw_min_max                       39644 non-null float64\n",
      "kw_max_max                       39644 non-null float64\n",
      "kw_avg_max                       39644 non-null float64\n",
      "kw_min_avg                       39644 non-null float64\n",
      "kw_max_avg                       39644 non-null float64\n",
      "kw_avg_avg                       39644 non-null float64\n",
      "self_reference_min_shares        39644 non-null float64\n",
      "self_reference_max_shares        39644 non-null float64\n",
      "self_reference_avg_sharess       39644 non-null float64\n",
      "weekday_is_monday                39644 non-null float64\n",
      "weekday_is_tuesday               39644 non-null float64\n",
      "weekday_is_wednesday             39644 non-null float64\n",
      "weekday_is_thursday              39644 non-null float64\n",
      "weekday_is_friday                39644 non-null float64\n",
      "weekday_is_saturday              39644 non-null float64\n",
      "weekday_is_sunday                39644 non-null float64\n",
      "is_weekend                       39644 non-null float64\n",
      "LDA_00                           39644 non-null float64\n",
      "LDA_01                           39644 non-null float64\n",
      "LDA_02                           39644 non-null float64\n",
      "LDA_03                           39644 non-null float64\n",
      "LDA_04                           39644 non-null float64\n",
      "global_subjectivity              39644 non-null float64\n",
      "global_sentiment_polarity        39644 non-null float64\n",
      "global_rate_positive_words       39644 non-null float64\n",
      "global_rate_negative_words       39644 non-null float64\n",
      "rate_positive_words              39644 non-null float64\n",
      "rate_negative_words              39644 non-null float64\n",
      "avg_positive_polarity            39644 non-null float64\n",
      "min_positive_polarity            39644 non-null float64\n",
      "max_positive_polarity            39644 non-null float64\n",
      "avg_negative_polarity            39644 non-null float64\n",
      "min_negative_polarity            39644 non-null float64\n",
      "max_negative_polarity            39644 non-null float64\n",
      "title_subjectivity               39644 non-null float64\n",
      "title_sentiment_polarity         39644 non-null float64\n",
      "abs_title_subjectivity           39644 non-null float64\n",
      "abs_title_sentiment_polarity     39644 non-null float64\n",
      "shares                           39644 non-null int64\n",
      "dtypes: float64(59), int64(1), object(1)\n",
      "memory usage: 18.5+ MB\n"
     ]
    }
   ],
   "source": [
    "# Load and print info on online popularity\n",
    "onlineRaw = pd.read_csv(\"./OnlineNewsPopularity.csv\", \n",
    "                        delimiter = ', ', # Get rid of leading spaces\n",
    "                        engine = 'python') # Avoid a warning\n",
    "onlineRaw.info()"
   ]
  },
  {
   "cell_type": "markdown",
   "metadata": {},
   "source": [
    "We'll at least start with the number of words, here called `n_tokens_content` :"
   ]
  },
  {
   "cell_type": "code",
   "execution_count": 5,
   "metadata": {},
   "outputs": [
    {
     "data": {
      "text/plain": [
       "count    39644.000000\n",
       "mean       546.514731\n",
       "std        471.107508\n",
       "min          0.000000\n",
       "25%        246.000000\n",
       "50%        409.000000\n",
       "75%        716.000000\n",
       "max       8474.000000\n",
       "Name: n_tokens_content, dtype: float64"
      ]
     },
     "execution_count": 5,
     "metadata": {},
     "output_type": "execute_result"
    }
   ],
   "source": [
    "onlineRaw['n_tokens_content'].describe()"
   ]
  },
  {
   "cell_type": "markdown",
   "metadata": {},
   "source": [
    "Also can plot it to see how it bins:"
   ]
  },
  {
   "cell_type": "code",
   "execution_count": 11,
   "metadata": {},
   "outputs": [
    {
     "data": {
      "image/png": "[encoded data removed]",
      "text/plain": [
       "<Figure size 1080x576 with 1 Axes>"
      ]
     },
     "metadata": {},
     "output_type": "display_data"
    }
   ],
   "source": [
    "plt.figure(figsize = (15,8))\n",
    "plt.hist(onlineRaw['n_tokens_content'], bins = 100)\n",
    "plt.ylabel('Frequency')\n",
    "plt.xlabel('Counts')\n",
    "plt.show()"
   ]
  },
  {
   "cell_type": "markdown",
   "metadata": {},
   "source": [
    "As shown, the distribution has a big long tail on the right. We're going to look at some ways to address that"
   ]
  },
  {
   "cell_type": "markdown",
   "metadata": {},
   "source": [
    "### Binarization\n",
    "\n",
    "This means taking the counts and just making it a logical feature. I take this to mean one of two things:\n",
    "\n",
    "1. Turn any count into \"1\"; works really well when all you care about is IF something happened, so you can throw out the counts themselves and make them all 1. I think this also shows up a lot in sparse feature spaces\n",
    "2. Pick some threshold; anything below that is 0, anything above is 1\n",
    "\n",
    "In this case, we DO have some zeros; let's see what happens if we binarize on a threshold versus on non-zero"
   ]
  },
  {
   "cell_type": "code",
   "execution_count": 20,
   "metadata": {},
   "outputs": [
    {
     "name": "stdout",
     "output_type": "stream",
     "text": [
      "True     38463\n",
      "False     1181\n",
      "Name: n_tokens_content, dtype: int64\n",
      "False    23514\n",
      "True     16130\n",
      "Name: n_tokens_content, dtype: int64\n"
     ]
    }
   ],
   "source": [
    "# Binarize on non-zero\n",
    "nonZeroBin = onlineRaw['n_tokens_content'] > 0\n",
    "print(nonZeroBin.value_counts())\n",
    "\n",
    "# Binarize on over/under 1000\n",
    "threshBin = onlineRaw['n_tokens_content'] > 500\n",
    "print(threshBin.value_counts())"
   ]
  },
  {
   "cell_type": "markdown",
   "metadata": {},
   "source": [
    "Worth noting: I could easily just throw out the \"false\" observations in the first case and make all the remaining things \"1\" if I wanted. So this is the easiest way to do it"
   ]
  },
  {
   "cell_type": "markdown",
   "metadata": {},
   "source": [
    "### Quantization/Binning\n",
    "\n",
    "These are approaches where we do a histogram-style binning on the numeric data instead. The idea here is to take the fine-grained detail and zoom out; the coarse-grained version can capture some of the meaningful differences without introducing the noise of the granularity. \n",
    "\n",
    "2 basic ways to do it:\n",
    "\n",
    "1. Draw up fixed bins ahead of time and put things in those bins\n",
    "2. Use the distribution itself to determine the bins using quantiles\n",
    "\n",
    "Let's run through both methods here:"
   ]
  },
  {
   "cell_type": "markdown",
   "metadata": {},
   "source": [
    "#### Fixed Bins\n",
    "\n",
    "We COULD do a fixed width bin or variable length. An example is ages; we might do something like this:\n",
    "\n",
    "* 0-5 yrs\n",
    "* 6-18 yrs\n",
    "* 19-25 yrs\n",
    "* 26-35 yrs\n",
    "* 36-45 yrs\n",
    "* 46-55 yrs\n",
    "* 56+ yrs\n",
    "\n",
    "The idea here is that while the bins are not a standard size, the ones we chose are more representative of phases of life. We could also do a simple linear binning, where we divide up by 10 year increments. Supposing we have a whole bunch of people aged 0-99, here's how I'd do that:"
   ]
  },
  {
   "cell_type": "code",
   "execution_count": 41,
   "metadata": {},
   "outputs": [
    {
     "data": {
      "image/png": "[encoded data removed]",
      "text/plain": [
       "<Figure size 432x288 with 1 Axes>"
      ]
     },
     "metadata": {},
     "output_type": "display_data"
    }
   ],
   "source": [
    "# Generate 50 random ages\n",
    "randomAges = np.random.randint(0,100,50)\n",
    "\n",
    "# Floor-divide everything by 10 to get the bin number (order is meaningful)\n",
    "binnedAges = np.floor_divide(randomAges, 10)\n",
    "\n",
    "# Make it a series and get the histogram\n",
    "plt.hist(pd.Series(binnedAges), bins = 10)\n",
    "plt.xlabel('Age Bin')\n",
    "plt.ylabel('Frequency')\n",
    "plt.show()"
   ]
  },
  {
   "cell_type": "markdown",
   "metadata": {},
   "source": [
    "We can also do fixed bins that climb logarithmically; this is more useful here, where my counts climb in a non-linear way. "
   ]
  },
  {
   "cell_type": "code",
   "execution_count": 40,
   "metadata": {},
   "outputs": [
    {
     "data": {
      "image/png": "[encoded data removed]",
      "text/plain": [
       "<Figure size 432x288 with 1 Axes>"
      ]
     },
     "metadata": {},
     "output_type": "display_data"
    }
   ],
   "source": [
    "# Create logarithmic bins for my word counts\n",
    "onlineLogBins = np.floor(np.log2(onlineRaw['n_tokens_content'] + 1))\n",
    "\n",
    "# Create a histogram showing the bins\n",
    "plt.hist(onlineLogBins)\n",
    "plt.xlabel('Word Count Bin')\n",
    "plt.ylabel('Frequency')\n",
    "plt.show()"
   ]
  },
  {
   "cell_type": "markdown",
   "metadata": {},
   "source": [
    "The log binning is related to the log transform, which I'll come back to. But it's easy to see here that it looks WAY different that before; much easier to see the full range of data. "
   ]
  },
  {
   "cell_type": "markdown",
   "metadata": {},
   "source": [
    "#### Using Quantiles\n",
    "\n",
    "Rather than fixing the bins, either by regular intervals or manual ones, we can also use the data themselves, pulling out the quantiles to use for bin edges. The result will be a pretty uniform distribution of course (10% of data lie below the 10% quantiles, 10% between 10% and 20% quantile, etc.), but it helps to deal with massive outliers. \n",
    "\n",
    "Here's how to do that on the online popularity data:"
   ]
  },
  {
   "cell_type": "code",
   "execution_count": 39,
   "metadata": {},
   "outputs": [
    {
     "data": {
      "image/png": "[encoded data removed]",
      "text/plain": [
       "<Figure size 432x288 with 1 Axes>"
      ]
     },
     "metadata": {},
     "output_type": "display_data"
    }
   ],
   "source": [
    "# Create 10 bins to hold things\n",
    "onlineQuantBins = pd.qcut(onlineRaw['n_tokens_content'], 10, labels = False)\n",
    "\n",
    "# Check out the resulting binning\n",
    "plt.hist(onlineQuantBins)\n",
    "plt.xlabel('Word Count Bin')\n",
    "plt.ylabel('Frequency')\n",
    "plt.show()"
   ]
  },
  {
   "cell_type": "markdown",
   "metadata": {},
   "source": [
    "As expected, it's basically a uniform distribution"
   ]
  },
  {
   "cell_type": "markdown",
   "metadata": {},
   "source": [
    "### Log Transforms\n",
    "\n",
    "Taking logs de-emphasizes the high extremes of data; the differences between high counts are compressed, while the differences between low counts are not. In fact, between 0 and 1, the counts are elongated; because of this (and because log(0) is undefined), counts data is usually logged with 1 added\n",
    "\n",
    "Here's how to do it on the online data:"
   ]
  },
  {
   "cell_type": "code",
   "execution_count": 38,
   "metadata": {},
   "outputs": [
    {
     "data": {
      "image/png": "[encoded data removed]",
      "text/plain": [
       "<Figure size 432x288 with 1 Axes>"
      ]
     },
     "metadata": {},
     "output_type": "display_data"
    }
   ],
   "source": [
    "onlineLogTrans = np.log10(onlineRaw['n_tokens_content'] + 1)\n",
    "\n",
    "plt.hist(onlineLogTrans)\n",
    "plt.xlabel('Word Count Bin')\n",
    "plt.ylabel('Frequency')\n",
    "plt.show()"
   ]
  },
  {
   "cell_type": "markdown",
   "metadata": {},
   "source": [
    "This histogram looks really similar to the previous one, but importantly, the values are continuous here. So we still have the granularity, but we've compressed the high extreme values. "
   ]
  },
  {
   "cell_type": "markdown",
   "metadata": {},
   "source": [
    "### Box-CoxPower Transforms\n",
    "\n",
    "Basically the same as log transforms, but generalized. Method is something like this:\n",
    "\n",
    "* Specify a parameter lambda\n",
    "* If lambda == 0, take ln(x)\n",
    "* Otherwise, raise x^lambda and do a scaling as well\n",
    "\n",
    "This means that lambda < 1 compresses higher values, while lambda > 1 expands them\n",
    "\n",
    "*How do we choose lambda??* \n",
    "\n",
    "Luckily, we don't have to; you can automatically use methods that choose the Box-Cox that gets your data closest to normal. It's build into Python as shown here:\n",
    "    "
   ]
  },
  {
   "cell_type": "code",
   "execution_count": 37,
   "metadata": {},
   "outputs": [
    {
     "data": {
      "image/png": "[encoded data removed]",
      "text/plain": [
       "<Figure size 432x288 with 1 Axes>"
      ]
     },
     "metadata": {},
     "output_type": "display_data"
    }
   ],
   "source": [
    "# Get the best transform\n",
    "onlineBoxCox = stats.boxcox(onlineRaw['n_tokens_content'] + 1)\n",
    "\n",
    "# Plot it\n",
    "plt.hist(onlineBoxCox)\n",
    "plt.xlabel('Word Count Bin')\n",
    "plt.ylabel('Frequency')\n",
    "plt.show()"
   ]
  },
  {
   "cell_type": "markdown",
   "metadata": {},
   "source": [
    "Notably, specifying `lmbda = 0` in the Box-Cox is how we do the log one (or how we specify a certain lambda)."
   ]
  },
  {
   "cell_type": "markdown",
   "metadata": {},
   "source": [
    "### Checking Normality\n",
    "\n",
    "Useful tool for this is the probplot from the `scipy.stats` submodule:"
   ]
  },
  {
   "cell_type": "code",
   "execution_count": 49,
   "metadata": {},
   "outputs": [
    {
     "data": {
      "image/png": "[encoded data removed]",
      "text/plain": [
       "<Figure size 1080x864 with 3 Axes>"
      ]
     },
     "metadata": {},
     "output_type": "display_data"
    }
   ],
   "source": [
    "# Make 3 subplots\n",
    "fig, (ax1, ax2, ax3) = plt.subplots(3,1, figsize = (15,12))\n",
    "\n",
    "# Plot all 3\n",
    "stats.probplot(onlineRaw['n_tokens_content'], dist = stats.norm, plot = ax1)\n",
    "stats.probplot(onlineLogTrans, dist = stats.norm, plot = ax2)\n",
    "stats.probplot(onlineBoxCox[0], dist = stats.norm, plot = ax3)\n",
    "\n",
    "# Set all the labels on x such that only the bottom one appears\n",
    "ax1.set_xlabel('')\n",
    "ax2.set_xlabel('')\n",
    "ax3.set_xlabel('Theoretical Quantiles')\n",
    "\n",
    "# Set all the titles\n",
    "ax1.set_title('Original Data')\n",
    "ax2.set_title('Log-Transform')\n",
    "ax3.set_title('Box-Cox Transform')\n",
    "\n",
    "plt.show()"
   ]
  },
  {
   "cell_type": "markdown",
   "metadata": {},
   "source": [
    "We don't expect it to match at the left end, because data is non-zero (unlike Gaussian); but we see that at right end, the transforms help conform the extreme high values to more normal ones"
   ]
  },
  {
   "cell_type": "markdown",
   "metadata": {},
   "source": [
    "## Feature Scaling and Normalization\n",
    "\n",
    "3 basic methods here:\n",
    "\n",
    "1. Min-Max Scaling\n",
    "2. Standardization (Z-scores)\n",
    "3. l^2 normalization\n",
    "\n",
    "Short blurb/demo on each:"
   ]
  },
  {
   "cell_type": "markdown",
   "metadata": {},
   "source": [
    "### Min-Max Scaling\n",
    "\n",
    "Basically, just scaling between the min and max of data so everything is between 0 and 1 now:"
   ]
  },
  {
   "cell_type": "code",
   "execution_count": null,
   "metadata": {},
   "outputs": [],
   "source": []
  },
  {
   "cell_type": "markdown",
   "metadata": {},
   "source": [
    "### Standardization\n",
    "\n",
    "Subtract the mean and scale by standard deviation, giving up Z-scores (mean of 0, std of 1)"
   ]
  },
  {
   "cell_type": "code",
   "execution_count": null,
   "metadata": {},
   "outputs": [],
   "source": []
  },
  {
   "cell_type": "markdown",
   "metadata": {},
   "source": [
    "### L^2 Normalization\n",
    "\n",
    "The basic idea here is, for a feature, you scale it down so the entire magnitude is 1; this means you'll inherently be putting things on the same scale, where every vector has magnitude of 1. "
   ]
  },
  {
   "cell_type": "code",
   "execution_count": null,
   "metadata": {},
   "outputs": [],
   "source": []
  },
  {
   "cell_type": "markdown",
   "metadata": {},
   "source": [
    "Why do any of this? Apparently it helps with the numeric stability of the underlying algorithms that do model/parameter optimization. It also can help understanding the variation for us humans (at least that's what I think).\n",
    "\n",
    "Worth noting: unlike the transforms, it doesn't change the shape of the data, just the scale. "
   ]
  },
  {
   "cell_type": "markdown",
   "metadata": {},
   "source": [
    "## Interaction Features\n",
    "\n",
    "Easy to introduce, but they scale VERY quickly, so be careful. Here's how to do it:"
   ]
  },
  {
   "cell_type": "code",
   "execution_count": null,
   "metadata": {},
   "outputs": [],
   "source": []
  },
  {
   "cell_type": "code",
   "execution_count": null,
   "metadata": {},
   "outputs": [],
   "source": []
  }
 ],
 "metadata": {
  "kernelspec": {
   "display_name": "Python 3",
   "language": "python",
   "name": "python3"
  },
  "language_info": {
   "codemirror_mode": {
    "name": "ipython",
    "version": 3
   },
   "file_extension": ".py",
   "mimetype": "text/x-python",
   "name": "python",
   "nbconvert_exporter": "python",
   "pygments_lexer": "ipython3",
   "version": "3.6.5"
  }
 },
 "nbformat": 4,
 "nbformat_minor": 2
}
