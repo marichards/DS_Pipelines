{
 "cells": [
  {
   "cell_type": "markdown",
   "metadata": {},
   "source": [
    "# Cleaning Data\n",
    "\n",
    "This notebook is all about the meat of data science: evaluating and cleaning data. It covers a wide swath of different things and I expect it will be my most-referenced notebook. I also expect it to grow a lot with time, as I encounter different situations that require novel approaches to what is contained here. \n",
    "\n",
    "For now, these are the basic sections:\n",
    "\n",
    "* Selecting/dropping, adding new columns, and renaming columns\n",
    "* Dealing with missing values\n",
    "* Combining and separating columns\n",
    "* Grouping and Aggregation\n",
    "* Value manipulation: applying, mapping\n",
    "* Melting and Pivoting\n",
    "* Date/time data\n",
    "* Using dfply (maybe)\n",
    "\n",
    "I'm likely to need a bunch of datasets to get things that are messed up enough for some of these things. I think the titanic dataset will do! I'll load my necessary libraries and that dataset before proceeding:"
   ]
  },
  {
   "cell_type": "code",
   "execution_count": 196,
   "metadata": {},
   "outputs": [
    {
     "name": "stdout",
     "output_type": "stream",
     "text": [
      "<class 'pandas.core.frame.DataFrame'>\n",
      "RangeIndex: 891 entries, 0 to 890\n",
      "Data columns (total 15 columns):\n",
      "survived       891 non-null int64\n",
      "pclass         891 non-null int64\n",
      "sex            891 non-null object\n",
      "age            714 non-null float64\n",
      "sibsp          891 non-null int64\n",
      "parch          891 non-null int64\n",
      "fare           891 non-null float64\n",
      "embarked       889 non-null object\n",
      "class          891 non-null category\n",
      "who            891 non-null object\n",
      "adult_male     891 non-null bool\n",
      "deck           203 non-null category\n",
      "embark_town    889 non-null object\n",
      "alive          891 non-null object\n",
      "alone          891 non-null bool\n",
      "dtypes: bool(2), category(2), float64(2), int64(4), object(5)\n",
      "memory usage: 80.6+ KB\n",
      "None\n"
     ]
    }
   ],
   "source": [
    "# Load libraries\n",
    "import pandas as pd\n",
    "import numpy as np\n",
    "import seaborn as sns\n",
    "\n",
    "# Load the seaborn titanic dataset\n",
    "titanic = sns.load_dataset('titanic')\n",
    "print(titanic.info())"
   ]
  },
  {
   "cell_type": "markdown",
   "metadata": {},
   "source": [
    "Next, I'm going to do some basic operations, essentially around selecting and renaming variables\n",
    "\n",
    "## Basic Operations\n",
    "\n",
    "First of all, I can select a subset of values; perhaps I only care about the a certain number of columns\n",
    "\n",
    "### Selecting Columns\n",
    "\n",
    "There's 2 basic things here: simple selection and complex selection. In the first case, I'll just be taking things by column name or number; in the second, I'll be filtering by more complex criteria.\n",
    "\n",
    "\n",
    "#### Simple Selection\n",
    "\n",
    "Let's say I only wanted the first 3 columns...here's the way to do it\n",
    "\n",
    "##### By Column Name\n",
    "\n",
    "Easiest way is grabbing the names directly:"
   ]
  },
  {
   "cell_type": "code",
   "execution_count": 41,
   "metadata": {},
   "outputs": [
    {
     "name": "stdout",
     "output_type": "stream",
     "text": [
      "<class 'pandas.core.frame.DataFrame'>\n",
      "RangeIndex: 891 entries, 0 to 890\n",
      "Data columns (total 3 columns):\n",
      "survived    891 non-null int64\n",
      "pclass      891 non-null int64\n",
      "sex         891 non-null object\n",
      "dtypes: int64(2), object(1)\n",
      "memory usage: 21.0+ KB\n"
     ]
    }
   ],
   "source": [
    "# Take the first 3 columns by name\n",
    "titanic[['survived', 'pclass', 'sex']].info()"
   ]
  },
  {
   "cell_type": "markdown",
   "metadata": {},
   "source": [
    "Other way to do this is by using the `.loc`:"
   ]
  },
  {
   "cell_type": "code",
   "execution_count": 42,
   "metadata": {},
   "outputs": [
    {
     "name": "stdout",
     "output_type": "stream",
     "text": [
      "<class 'pandas.core.frame.DataFrame'>\n",
      "RangeIndex: 891 entries, 0 to 890\n",
      "Data columns (total 3 columns):\n",
      "survived    891 non-null int64\n",
      "pclass      891 non-null int64\n",
      "sex         891 non-null object\n",
      "dtypes: int64(2), object(1)\n",
      "memory usage: 21.0+ KB\n"
     ]
    }
   ],
   "source": [
    "# Take the first 3 columns by name\n",
    "titanic.loc[:,['survived', 'pclass', 'sex']].info()"
   ]
  },
  {
   "cell_type": "markdown",
   "metadata": {},
   "source": [
    "##### By Column Number"
   ]
  },
  {
   "cell_type": "code",
   "execution_count": 43,
   "metadata": {},
   "outputs": [
    {
     "name": "stdout",
     "output_type": "stream",
     "text": [
      "<class 'pandas.core.frame.DataFrame'>\n",
      "RangeIndex: 891 entries, 0 to 890\n",
      "Data columns (total 3 columns):\n",
      "survived    891 non-null int64\n",
      "pclass      891 non-null int64\n",
      "sex         891 non-null object\n",
      "dtypes: int64(2), object(1)\n",
      "memory usage: 21.0+ KB\n"
     ]
    }
   ],
   "source": [
    "# Take the first 3 columns by number\n",
    "titanic.iloc[:,0:3].info()"
   ]
  },
  {
   "cell_type": "markdown",
   "metadata": {},
   "source": [
    "Or take non-consecutive columns:"
   ]
  },
  {
   "cell_type": "code",
   "execution_count": 44,
   "metadata": {},
   "outputs": [
    {
     "name": "stdout",
     "output_type": "stream",
     "text": [
      "<class 'pandas.core.frame.DataFrame'>\n",
      "RangeIndex: 891 entries, 0 to 890\n",
      "Data columns (total 3 columns):\n",
      "survived    891 non-null int64\n",
      "age         714 non-null float64\n",
      "parch       891 non-null int64\n",
      "dtypes: float64(1), int64(2)\n",
      "memory usage: 21.0 KB\n"
     ]
    }
   ],
   "source": [
    "# Take the first 3 columns by number\n",
    "titanic.iloc[:,[0,3,5]].info()"
   ]
  },
  {
   "cell_type": "markdown",
   "metadata": {},
   "source": [
    "#### Selection by Filtering\n",
    "\n",
    "This is just covering how to filter by columns, not by rows. This is basically just the `filter` method, which lets me choose things by label content (not the actual data content). \n",
    "\n",
    "I can simply filter by column name:"
   ]
  },
  {
   "cell_type": "code",
   "execution_count": 161,
   "metadata": {},
   "outputs": [
    {
     "name": "stdout",
     "output_type": "stream",
     "text": [
      "<class 'pandas.core.frame.DataFrame'>\n",
      "RangeIndex: 891 entries, 0 to 890\n",
      "Data columns (total 3 columns):\n",
      "survived    891 non-null int64\n",
      "age         891 non-null float64\n",
      "parch       891 non-null int64\n",
      "dtypes: float64(1), int64(2)\n",
      "memory usage: 21.0 KB\n"
     ]
    }
   ],
   "source": [
    "titanic.filter(items = ['survived','age','parch']).info()"
   ]
  },
  {
   "cell_type": "markdown",
   "metadata": {},
   "source": [
    "Of course that's not a good reason to use it; rather, it's more useful with more flexible arguments, such as `like`, which lets me match substrings:"
   ]
  },
  {
   "cell_type": "code",
   "execution_count": 162,
   "metadata": {},
   "outputs": [
    {
     "name": "stdout",
     "output_type": "stream",
     "text": [
      "<class 'pandas.core.frame.DataFrame'>\n",
      "RangeIndex: 891 entries, 0 to 890\n",
      "Data columns (total 2 columns):\n",
      "pclass    891 non-null int64\n",
      "class     891 non-null category\n",
      "dtypes: category(1), int64(1)\n",
      "memory usage: 8.0 KB\n"
     ]
    }
   ],
   "source": [
    "titanic.filter(like = 'class').info()"
   ]
  },
  {
   "cell_type": "markdown",
   "metadata": {},
   "source": [
    "I can also use regular expressions to match, such as all columns whose names start with an \"s\":"
   ]
  },
  {
   "cell_type": "code",
   "execution_count": 163,
   "metadata": {},
   "outputs": [
    {
     "name": "stdout",
     "output_type": "stream",
     "text": [
      "<class 'pandas.core.frame.DataFrame'>\n",
      "RangeIndex: 891 entries, 0 to 890\n",
      "Data columns (total 3 columns):\n",
      "survived    891 non-null int64\n",
      "sex         891 non-null object\n",
      "sibsp       891 non-null int64\n",
      "dtypes: int64(2), object(1)\n",
      "memory usage: 21.0+ KB\n"
     ]
    }
   ],
   "source": [
    "titanic.filter(regex='^s').info()"
   ]
  },
  {
   "cell_type": "markdown",
   "metadata": {},
   "source": [
    "Not much more to say for that, it's pretty straightforward; next we'll do the opposite operation, which is dropping columns\n",
    "\n",
    "### Dropping Columns\n",
    "\n",
    "Easiest way is probably by name; in this example, I'm going to get rid of the obnoxious duplicate variables: `embark_town`, `adult_male`, and `alive`:"
   ]
  },
  {
   "cell_type": "code",
   "execution_count": 47,
   "metadata": {},
   "outputs": [
    {
     "name": "stdout",
     "output_type": "stream",
     "text": [
      "<class 'pandas.core.frame.DataFrame'>\n",
      "RangeIndex: 891 entries, 0 to 890\n",
      "Data columns (total 12 columns):\n",
      "survived    891 non-null int64\n",
      "pclass      891 non-null int64\n",
      "sex         891 non-null object\n",
      "age         714 non-null float64\n",
      "sibsp       891 non-null int64\n",
      "parch       891 non-null int64\n",
      "fare        891 non-null float64\n",
      "embarked    889 non-null object\n",
      "class       891 non-null category\n",
      "who         891 non-null object\n",
      "deck        203 non-null category\n",
      "alone       891 non-null bool\n",
      "dtypes: bool(1), category(2), float64(2), int64(4), object(3)\n",
      "memory usage: 65.8+ KB\n"
     ]
    }
   ],
   "source": [
    "titanic.drop(['embark_town', 'adult_male', 'alive'], axis = 'columns').info()"
   ]
  },
  {
   "cell_type": "markdown",
   "metadata": {},
   "source": [
    "I don't think there's a better way to do things there. Now I'll show how to add columns\n",
    "\n",
    "### Adding Columns\n",
    "\n",
    "There's a couple scenarios to deal with here:\n",
    "\n",
    "* Adding 1 value (broadcasting)\n",
    "* Adding 1 column\n",
    "* Adding multiple columns\n",
    "\n",
    "These are in increasing order of complexity, so let's do them 1 at a time:\n",
    "\n",
    "#### Adding 1 value (broadcasting)\n",
    "\n",
    "Occasionally, I find myself wanting to add 1 common value to each row; often, this is because I'm about to join or concatenate with another data frame, so I want some kind of identifier. The most straightforward way is to simply assign it as a scalar, at which point it will be 'broadcast' to all rows:"
   ]
  },
  {
   "cell_type": "code",
   "execution_count": 48,
   "metadata": {},
   "outputs": [
    {
     "data": {
      "text/html": [
       "<div>\n",
       "<style scoped>\n",
       "    .dataframe tbody tr th:only-of-type {\n",
       "        vertical-align: middle;\n",
       "    }\n",
       "\n",
       "    .dataframe tbody tr th {\n",
       "        vertical-align: top;\n",
       "    }\n",
       "\n",
       "    .dataframe thead th {\n",
       "        text-align: right;\n",
       "    }\n",
       "</style>\n",
       "<table border=\"1\" class=\"dataframe\">\n",
       "  <thead>\n",
       "    <tr style=\"text-align: right;\">\n",
       "      <th></th>\n",
       "      <th>survived</th>\n",
       "      <th>pclass</th>\n",
       "      <th>sex</th>\n",
       "      <th>age</th>\n",
       "      <th>sibsp</th>\n",
       "      <th>parch</th>\n",
       "      <th>fare</th>\n",
       "      <th>embarked</th>\n",
       "      <th>class</th>\n",
       "      <th>who</th>\n",
       "      <th>adult_male</th>\n",
       "      <th>deck</th>\n",
       "      <th>embark_town</th>\n",
       "      <th>alive</th>\n",
       "      <th>alone</th>\n",
       "      <th>broadcast</th>\n",
       "    </tr>\n",
       "  </thead>\n",
       "  <tbody>\n",
       "    <tr>\n",
       "      <th>0</th>\n",
       "      <td>0</td>\n",
       "      <td>3</td>\n",
       "      <td>male</td>\n",
       "      <td>22.0</td>\n",
       "      <td>1</td>\n",
       "      <td>0</td>\n",
       "      <td>7.2500</td>\n",
       "      <td>S</td>\n",
       "      <td>Third</td>\n",
       "      <td>man</td>\n",
       "      <td>True</td>\n",
       "      <td>NaN</td>\n",
       "      <td>Southampton</td>\n",
       "      <td>no</td>\n",
       "      <td>False</td>\n",
       "      <td>Titanic</td>\n",
       "    </tr>\n",
       "    <tr>\n",
       "      <th>1</th>\n",
       "      <td>1</td>\n",
       "      <td>1</td>\n",
       "      <td>female</td>\n",
       "      <td>38.0</td>\n",
       "      <td>1</td>\n",
       "      <td>0</td>\n",
       "      <td>71.2833</td>\n",
       "      <td>C</td>\n",
       "      <td>First</td>\n",
       "      <td>woman</td>\n",
       "      <td>False</td>\n",
       "      <td>C</td>\n",
       "      <td>Cherbourg</td>\n",
       "      <td>yes</td>\n",
       "      <td>False</td>\n",
       "      <td>Titanic</td>\n",
       "    </tr>\n",
       "    <tr>\n",
       "      <th>2</th>\n",
       "      <td>1</td>\n",
       "      <td>3</td>\n",
       "      <td>female</td>\n",
       "      <td>26.0</td>\n",
       "      <td>0</td>\n",
       "      <td>0</td>\n",
       "      <td>7.9250</td>\n",
       "      <td>S</td>\n",
       "      <td>Third</td>\n",
       "      <td>woman</td>\n",
       "      <td>False</td>\n",
       "      <td>NaN</td>\n",
       "      <td>Southampton</td>\n",
       "      <td>yes</td>\n",
       "      <td>True</td>\n",
       "      <td>Titanic</td>\n",
       "    </tr>\n",
       "    <tr>\n",
       "      <th>3</th>\n",
       "      <td>1</td>\n",
       "      <td>1</td>\n",
       "      <td>female</td>\n",
       "      <td>35.0</td>\n",
       "      <td>1</td>\n",
       "      <td>0</td>\n",
       "      <td>53.1000</td>\n",
       "      <td>S</td>\n",
       "      <td>First</td>\n",
       "      <td>woman</td>\n",
       "      <td>False</td>\n",
       "      <td>C</td>\n",
       "      <td>Southampton</td>\n",
       "      <td>yes</td>\n",
       "      <td>False</td>\n",
       "      <td>Titanic</td>\n",
       "    </tr>\n",
       "    <tr>\n",
       "      <th>4</th>\n",
       "      <td>0</td>\n",
       "      <td>3</td>\n",
       "      <td>male</td>\n",
       "      <td>35.0</td>\n",
       "      <td>0</td>\n",
       "      <td>0</td>\n",
       "      <td>8.0500</td>\n",
       "      <td>S</td>\n",
       "      <td>Third</td>\n",
       "      <td>man</td>\n",
       "      <td>True</td>\n",
       "      <td>NaN</td>\n",
       "      <td>Southampton</td>\n",
       "      <td>no</td>\n",
       "      <td>True</td>\n",
       "      <td>Titanic</td>\n",
       "    </tr>\n",
       "  </tbody>\n",
       "</table>\n",
       "</div>"
      ],
      "text/plain": [
       "   survived  pclass     sex   age  sibsp  parch     fare embarked  class  \\\n",
       "0         0       3    male  22.0      1      0   7.2500        S  Third   \n",
       "1         1       1  female  38.0      1      0  71.2833        C  First   \n",
       "2         1       3  female  26.0      0      0   7.9250        S  Third   \n",
       "3         1       1  female  35.0      1      0  53.1000        S  First   \n",
       "4         0       3    male  35.0      0      0   8.0500        S  Third   \n",
       "\n",
       "     who  adult_male deck  embark_town alive  alone broadcast  \n",
       "0    man        True  NaN  Southampton    no  False   Titanic  \n",
       "1  woman       False    C    Cherbourg   yes  False   Titanic  \n",
       "2  woman       False  NaN  Southampton   yes   True   Titanic  \n",
       "3  woman       False    C  Southampton   yes  False   Titanic  \n",
       "4    man        True  NaN  Southampton    no   True   Titanic  "
      ]
     },
     "execution_count": 48,
     "metadata": {},
     "output_type": "execute_result"
    }
   ],
   "source": [
    "# Actually adds the column\n",
    "titanic['broadcast'] = 'Titanic'\n",
    "titanic.head()"
   ]
  },
  {
   "cell_type": "markdown",
   "metadata": {},
   "source": [
    "Now I've got a broadcast column, which could be useful later. I'm going to also show how to do the same thing using the `assign` method:"
   ]
  },
  {
   "cell_type": "code",
   "execution_count": 49,
   "metadata": {},
   "outputs": [
    {
     "data": {
      "text/html": [
       "<div>\n",
       "<style scoped>\n",
       "    .dataframe tbody tr th:only-of-type {\n",
       "        vertical-align: middle;\n",
       "    }\n",
       "\n",
       "    .dataframe tbody tr th {\n",
       "        vertical-align: top;\n",
       "    }\n",
       "\n",
       "    .dataframe thead th {\n",
       "        text-align: right;\n",
       "    }\n",
       "</style>\n",
       "<table border=\"1\" class=\"dataframe\">\n",
       "  <thead>\n",
       "    <tr style=\"text-align: right;\">\n",
       "      <th></th>\n",
       "      <th>survived</th>\n",
       "      <th>pclass</th>\n",
       "      <th>sex</th>\n",
       "      <th>age</th>\n",
       "      <th>sibsp</th>\n",
       "      <th>parch</th>\n",
       "      <th>fare</th>\n",
       "      <th>embarked</th>\n",
       "      <th>class</th>\n",
       "      <th>who</th>\n",
       "      <th>adult_male</th>\n",
       "      <th>deck</th>\n",
       "      <th>embark_town</th>\n",
       "      <th>alive</th>\n",
       "      <th>alone</th>\n",
       "      <th>broadcast</th>\n",
       "      <th>broadcast2</th>\n",
       "    </tr>\n",
       "  </thead>\n",
       "  <tbody>\n",
       "    <tr>\n",
       "      <th>0</th>\n",
       "      <td>0</td>\n",
       "      <td>3</td>\n",
       "      <td>male</td>\n",
       "      <td>22.0</td>\n",
       "      <td>1</td>\n",
       "      <td>0</td>\n",
       "      <td>7.2500</td>\n",
       "      <td>S</td>\n",
       "      <td>Third</td>\n",
       "      <td>man</td>\n",
       "      <td>True</td>\n",
       "      <td>NaN</td>\n",
       "      <td>Southampton</td>\n",
       "      <td>no</td>\n",
       "      <td>False</td>\n",
       "      <td>Titanic</td>\n",
       "      <td>Titanic</td>\n",
       "    </tr>\n",
       "    <tr>\n",
       "      <th>1</th>\n",
       "      <td>1</td>\n",
       "      <td>1</td>\n",
       "      <td>female</td>\n",
       "      <td>38.0</td>\n",
       "      <td>1</td>\n",
       "      <td>0</td>\n",
       "      <td>71.2833</td>\n",
       "      <td>C</td>\n",
       "      <td>First</td>\n",
       "      <td>woman</td>\n",
       "      <td>False</td>\n",
       "      <td>C</td>\n",
       "      <td>Cherbourg</td>\n",
       "      <td>yes</td>\n",
       "      <td>False</td>\n",
       "      <td>Titanic</td>\n",
       "      <td>Titanic</td>\n",
       "    </tr>\n",
       "    <tr>\n",
       "      <th>2</th>\n",
       "      <td>1</td>\n",
       "      <td>3</td>\n",
       "      <td>female</td>\n",
       "      <td>26.0</td>\n",
       "      <td>0</td>\n",
       "      <td>0</td>\n",
       "      <td>7.9250</td>\n",
       "      <td>S</td>\n",
       "      <td>Third</td>\n",
       "      <td>woman</td>\n",
       "      <td>False</td>\n",
       "      <td>NaN</td>\n",
       "      <td>Southampton</td>\n",
       "      <td>yes</td>\n",
       "      <td>True</td>\n",
       "      <td>Titanic</td>\n",
       "      <td>Titanic</td>\n",
       "    </tr>\n",
       "    <tr>\n",
       "      <th>3</th>\n",
       "      <td>1</td>\n",
       "      <td>1</td>\n",
       "      <td>female</td>\n",
       "      <td>35.0</td>\n",
       "      <td>1</td>\n",
       "      <td>0</td>\n",
       "      <td>53.1000</td>\n",
       "      <td>S</td>\n",
       "      <td>First</td>\n",
       "      <td>woman</td>\n",
       "      <td>False</td>\n",
       "      <td>C</td>\n",
       "      <td>Southampton</td>\n",
       "      <td>yes</td>\n",
       "      <td>False</td>\n",
       "      <td>Titanic</td>\n",
       "      <td>Titanic</td>\n",
       "    </tr>\n",
       "    <tr>\n",
       "      <th>4</th>\n",
       "      <td>0</td>\n",
       "      <td>3</td>\n",
       "      <td>male</td>\n",
       "      <td>35.0</td>\n",
       "      <td>0</td>\n",
       "      <td>0</td>\n",
       "      <td>8.0500</td>\n",
       "      <td>S</td>\n",
       "      <td>Third</td>\n",
       "      <td>man</td>\n",
       "      <td>True</td>\n",
       "      <td>NaN</td>\n",
       "      <td>Southampton</td>\n",
       "      <td>no</td>\n",
       "      <td>True</td>\n",
       "      <td>Titanic</td>\n",
       "      <td>Titanic</td>\n",
       "    </tr>\n",
       "  </tbody>\n",
       "</table>\n",
       "</div>"
      ],
      "text/plain": [
       "   survived  pclass     sex   age  sibsp  parch     fare embarked  class  \\\n",
       "0         0       3    male  22.0      1      0   7.2500        S  Third   \n",
       "1         1       1  female  38.0      1      0  71.2833        C  First   \n",
       "2         1       3  female  26.0      0      0   7.9250        S  Third   \n",
       "3         1       1  female  35.0      1      0  53.1000        S  First   \n",
       "4         0       3    male  35.0      0      0   8.0500        S  Third   \n",
       "\n",
       "     who  adult_male deck  embark_town alive  alone broadcast broadcast2  \n",
       "0    man        True  NaN  Southampton    no  False   Titanic    Titanic  \n",
       "1  woman       False    C    Cherbourg   yes  False   Titanic    Titanic  \n",
       "2  woman       False  NaN  Southampton   yes   True   Titanic    Titanic  \n",
       "3  woman       False    C  Southampton   yes  False   Titanic    Titanic  \n",
       "4    man        True  NaN  Southampton    no   True   Titanic    Titanic  "
      ]
     },
     "execution_count": 49,
     "metadata": {},
     "output_type": "execute_result"
    }
   ],
   "source": [
    "# Doesn't actually add in place\n",
    "titanic.assign(broadcast2 = 'Titanic').head()"
   ]
  },
  {
   "cell_type": "markdown",
   "metadata": {},
   "source": [
    "The `assign` method seems excessive here, but it does let me control whether to actually add things. Observe that the dataset doesn't actually have the last column:"
   ]
  },
  {
   "cell_type": "code",
   "execution_count": 50,
   "metadata": {},
   "outputs": [
    {
     "name": "stdout",
     "output_type": "stream",
     "text": [
      "<class 'pandas.core.frame.DataFrame'>\n",
      "RangeIndex: 891 entries, 0 to 890\n",
      "Data columns (total 16 columns):\n",
      "survived       891 non-null int64\n",
      "pclass         891 non-null int64\n",
      "sex            891 non-null object\n",
      "age            714 non-null float64\n",
      "sibsp          891 non-null int64\n",
      "parch          891 non-null int64\n",
      "fare           891 non-null float64\n",
      "embarked       889 non-null object\n",
      "class          891 non-null category\n",
      "who            891 non-null object\n",
      "adult_male     891 non-null bool\n",
      "deck           203 non-null category\n",
      "embark_town    889 non-null object\n",
      "alive          891 non-null object\n",
      "alone          891 non-null bool\n",
      "broadcast      891 non-null object\n",
      "dtypes: bool(2), category(2), float64(2), int64(4), object(6)\n",
      "memory usage: 87.6+ KB\n"
     ]
    }
   ],
   "source": [
    "titanic.info()"
   ]
  },
  {
   "cell_type": "markdown",
   "metadata": {},
   "source": [
    "So the `assign` method is more flexible, but the direct assignment is a bit faster to type out. \n",
    "\n",
    "Now I'll move to assigning actual columns\n",
    "\n",
    "#### Adding 1 column\n",
    "\n",
    "This is again easily done if I want to change the dataframe in place, which I often do:"
   ]
  },
  {
   "cell_type": "code",
   "execution_count": 51,
   "metadata": {},
   "outputs": [
    {
     "data": {
      "text/html": [
       "<div>\n",
       "<style scoped>\n",
       "    .dataframe tbody tr th:only-of-type {\n",
       "        vertical-align: middle;\n",
       "    }\n",
       "\n",
       "    .dataframe tbody tr th {\n",
       "        vertical-align: top;\n",
       "    }\n",
       "\n",
       "    .dataframe thead th {\n",
       "        text-align: right;\n",
       "    }\n",
       "</style>\n",
       "<table border=\"1\" class=\"dataframe\">\n",
       "  <thead>\n",
       "    <tr style=\"text-align: right;\">\n",
       "      <th></th>\n",
       "      <th>survived</th>\n",
       "      <th>pclass</th>\n",
       "      <th>sex</th>\n",
       "      <th>age</th>\n",
       "      <th>sibsp</th>\n",
       "      <th>parch</th>\n",
       "      <th>fare</th>\n",
       "      <th>embarked</th>\n",
       "      <th>class</th>\n",
       "      <th>who</th>\n",
       "      <th>adult_male</th>\n",
       "      <th>deck</th>\n",
       "      <th>embark_town</th>\n",
       "      <th>alive</th>\n",
       "      <th>alone</th>\n",
       "      <th>broadcast</th>\n",
       "      <th>noise</th>\n",
       "    </tr>\n",
       "  </thead>\n",
       "  <tbody>\n",
       "    <tr>\n",
       "      <th>0</th>\n",
       "      <td>0</td>\n",
       "      <td>3</td>\n",
       "      <td>male</td>\n",
       "      <td>22.0</td>\n",
       "      <td>1</td>\n",
       "      <td>0</td>\n",
       "      <td>7.2500</td>\n",
       "      <td>S</td>\n",
       "      <td>Third</td>\n",
       "      <td>man</td>\n",
       "      <td>True</td>\n",
       "      <td>NaN</td>\n",
       "      <td>Southampton</td>\n",
       "      <td>no</td>\n",
       "      <td>False</td>\n",
       "      <td>Titanic</td>\n",
       "      <td>0.938297</td>\n",
       "    </tr>\n",
       "    <tr>\n",
       "      <th>1</th>\n",
       "      <td>1</td>\n",
       "      <td>1</td>\n",
       "      <td>female</td>\n",
       "      <td>38.0</td>\n",
       "      <td>1</td>\n",
       "      <td>0</td>\n",
       "      <td>71.2833</td>\n",
       "      <td>C</td>\n",
       "      <td>First</td>\n",
       "      <td>woman</td>\n",
       "      <td>False</td>\n",
       "      <td>C</td>\n",
       "      <td>Cherbourg</td>\n",
       "      <td>yes</td>\n",
       "      <td>False</td>\n",
       "      <td>Titanic</td>\n",
       "      <td>0.473655</td>\n",
       "    </tr>\n",
       "    <tr>\n",
       "      <th>2</th>\n",
       "      <td>1</td>\n",
       "      <td>3</td>\n",
       "      <td>female</td>\n",
       "      <td>26.0</td>\n",
       "      <td>0</td>\n",
       "      <td>0</td>\n",
       "      <td>7.9250</td>\n",
       "      <td>S</td>\n",
       "      <td>Third</td>\n",
       "      <td>woman</td>\n",
       "      <td>False</td>\n",
       "      <td>NaN</td>\n",
       "      <td>Southampton</td>\n",
       "      <td>yes</td>\n",
       "      <td>True</td>\n",
       "      <td>Titanic</td>\n",
       "      <td>0.965693</td>\n",
       "    </tr>\n",
       "    <tr>\n",
       "      <th>3</th>\n",
       "      <td>1</td>\n",
       "      <td>1</td>\n",
       "      <td>female</td>\n",
       "      <td>35.0</td>\n",
       "      <td>1</td>\n",
       "      <td>0</td>\n",
       "      <td>53.1000</td>\n",
       "      <td>S</td>\n",
       "      <td>First</td>\n",
       "      <td>woman</td>\n",
       "      <td>False</td>\n",
       "      <td>C</td>\n",
       "      <td>Southampton</td>\n",
       "      <td>yes</td>\n",
       "      <td>False</td>\n",
       "      <td>Titanic</td>\n",
       "      <td>0.771249</td>\n",
       "    </tr>\n",
       "    <tr>\n",
       "      <th>4</th>\n",
       "      <td>0</td>\n",
       "      <td>3</td>\n",
       "      <td>male</td>\n",
       "      <td>35.0</td>\n",
       "      <td>0</td>\n",
       "      <td>0</td>\n",
       "      <td>8.0500</td>\n",
       "      <td>S</td>\n",
       "      <td>Third</td>\n",
       "      <td>man</td>\n",
       "      <td>True</td>\n",
       "      <td>NaN</td>\n",
       "      <td>Southampton</td>\n",
       "      <td>no</td>\n",
       "      <td>True</td>\n",
       "      <td>Titanic</td>\n",
       "      <td>0.339541</td>\n",
       "    </tr>\n",
       "  </tbody>\n",
       "</table>\n",
       "</div>"
      ],
      "text/plain": [
       "   survived  pclass     sex   age  sibsp  parch     fare embarked  class  \\\n",
       "0         0       3    male  22.0      1      0   7.2500        S  Third   \n",
       "1         1       1  female  38.0      1      0  71.2833        C  First   \n",
       "2         1       3  female  26.0      0      0   7.9250        S  Third   \n",
       "3         1       1  female  35.0      1      0  53.1000        S  First   \n",
       "4         0       3    male  35.0      0      0   8.0500        S  Third   \n",
       "\n",
       "     who  adult_male deck  embark_town alive  alone broadcast     noise  \n",
       "0    man        True  NaN  Southampton    no  False   Titanic  0.938297  \n",
       "1  woman       False    C    Cherbourg   yes  False   Titanic  0.473655  \n",
       "2  woman       False  NaN  Southampton   yes   True   Titanic  0.965693  \n",
       "3  woman       False    C  Southampton   yes  False   Titanic  0.771249  \n",
       "4    man        True  NaN  Southampton    no   True   Titanic  0.339541  "
      ]
     },
     "execution_count": 51,
     "metadata": {},
     "output_type": "execute_result"
    }
   ],
   "source": [
    "# Add a column of random noise\n",
    "titanic['noise'] = np.random.rand(len(titanic))\n",
    "titanic.head()"
   ]
  },
  {
   "cell_type": "markdown",
   "metadata": {},
   "source": [
    "Just as before, I can use `assign` to create the column as well, but this time I won't actually add it:"
   ]
  },
  {
   "cell_type": "code",
   "execution_count": 52,
   "metadata": {},
   "outputs": [
    {
     "data": {
      "text/html": [
       "<div>\n",
       "<style scoped>\n",
       "    .dataframe tbody tr th:only-of-type {\n",
       "        vertical-align: middle;\n",
       "    }\n",
       "\n",
       "    .dataframe tbody tr th {\n",
       "        vertical-align: top;\n",
       "    }\n",
       "\n",
       "    .dataframe thead th {\n",
       "        text-align: right;\n",
       "    }\n",
       "</style>\n",
       "<table border=\"1\" class=\"dataframe\">\n",
       "  <thead>\n",
       "    <tr style=\"text-align: right;\">\n",
       "      <th></th>\n",
       "      <th>survived</th>\n",
       "      <th>pclass</th>\n",
       "      <th>sex</th>\n",
       "      <th>age</th>\n",
       "      <th>sibsp</th>\n",
       "      <th>parch</th>\n",
       "      <th>fare</th>\n",
       "      <th>embarked</th>\n",
       "      <th>class</th>\n",
       "      <th>who</th>\n",
       "      <th>adult_male</th>\n",
       "      <th>deck</th>\n",
       "      <th>embark_town</th>\n",
       "      <th>alive</th>\n",
       "      <th>alone</th>\n",
       "      <th>broadcast</th>\n",
       "      <th>noise</th>\n",
       "      <th>noise2</th>\n",
       "    </tr>\n",
       "  </thead>\n",
       "  <tbody>\n",
       "    <tr>\n",
       "      <th>0</th>\n",
       "      <td>0</td>\n",
       "      <td>3</td>\n",
       "      <td>male</td>\n",
       "      <td>22.0</td>\n",
       "      <td>1</td>\n",
       "      <td>0</td>\n",
       "      <td>7.2500</td>\n",
       "      <td>S</td>\n",
       "      <td>Third</td>\n",
       "      <td>man</td>\n",
       "      <td>True</td>\n",
       "      <td>NaN</td>\n",
       "      <td>Southampton</td>\n",
       "      <td>no</td>\n",
       "      <td>False</td>\n",
       "      <td>Titanic</td>\n",
       "      <td>0.938297</td>\n",
       "      <td>0.443772</td>\n",
       "    </tr>\n",
       "    <tr>\n",
       "      <th>1</th>\n",
       "      <td>1</td>\n",
       "      <td>1</td>\n",
       "      <td>female</td>\n",
       "      <td>38.0</td>\n",
       "      <td>1</td>\n",
       "      <td>0</td>\n",
       "      <td>71.2833</td>\n",
       "      <td>C</td>\n",
       "      <td>First</td>\n",
       "      <td>woman</td>\n",
       "      <td>False</td>\n",
       "      <td>C</td>\n",
       "      <td>Cherbourg</td>\n",
       "      <td>yes</td>\n",
       "      <td>False</td>\n",
       "      <td>Titanic</td>\n",
       "      <td>0.473655</td>\n",
       "      <td>0.229310</td>\n",
       "    </tr>\n",
       "    <tr>\n",
       "      <th>2</th>\n",
       "      <td>1</td>\n",
       "      <td>3</td>\n",
       "      <td>female</td>\n",
       "      <td>26.0</td>\n",
       "      <td>0</td>\n",
       "      <td>0</td>\n",
       "      <td>7.9250</td>\n",
       "      <td>S</td>\n",
       "      <td>Third</td>\n",
       "      <td>woman</td>\n",
       "      <td>False</td>\n",
       "      <td>NaN</td>\n",
       "      <td>Southampton</td>\n",
       "      <td>yes</td>\n",
       "      <td>True</td>\n",
       "      <td>Titanic</td>\n",
       "      <td>0.965693</td>\n",
       "      <td>0.603039</td>\n",
       "    </tr>\n",
       "    <tr>\n",
       "      <th>3</th>\n",
       "      <td>1</td>\n",
       "      <td>1</td>\n",
       "      <td>female</td>\n",
       "      <td>35.0</td>\n",
       "      <td>1</td>\n",
       "      <td>0</td>\n",
       "      <td>53.1000</td>\n",
       "      <td>S</td>\n",
       "      <td>First</td>\n",
       "      <td>woman</td>\n",
       "      <td>False</td>\n",
       "      <td>C</td>\n",
       "      <td>Southampton</td>\n",
       "      <td>yes</td>\n",
       "      <td>False</td>\n",
       "      <td>Titanic</td>\n",
       "      <td>0.771249</td>\n",
       "      <td>0.385821</td>\n",
       "    </tr>\n",
       "    <tr>\n",
       "      <th>4</th>\n",
       "      <td>0</td>\n",
       "      <td>3</td>\n",
       "      <td>male</td>\n",
       "      <td>35.0</td>\n",
       "      <td>0</td>\n",
       "      <td>0</td>\n",
       "      <td>8.0500</td>\n",
       "      <td>S</td>\n",
       "      <td>Third</td>\n",
       "      <td>man</td>\n",
       "      <td>True</td>\n",
       "      <td>NaN</td>\n",
       "      <td>Southampton</td>\n",
       "      <td>no</td>\n",
       "      <td>True</td>\n",
       "      <td>Titanic</td>\n",
       "      <td>0.339541</td>\n",
       "      <td>0.741340</td>\n",
       "    </tr>\n",
       "  </tbody>\n",
       "</table>\n",
       "</div>"
      ],
      "text/plain": [
       "   survived  pclass     sex   age  sibsp  parch     fare embarked  class  \\\n",
       "0         0       3    male  22.0      1      0   7.2500        S  Third   \n",
       "1         1       1  female  38.0      1      0  71.2833        C  First   \n",
       "2         1       3  female  26.0      0      0   7.9250        S  Third   \n",
       "3         1       1  female  35.0      1      0  53.1000        S  First   \n",
       "4         0       3    male  35.0      0      0   8.0500        S  Third   \n",
       "\n",
       "     who  adult_male deck  embark_town alive  alone broadcast     noise  \\\n",
       "0    man        True  NaN  Southampton    no  False   Titanic  0.938297   \n",
       "1  woman       False    C    Cherbourg   yes  False   Titanic  0.473655   \n",
       "2  woman       False  NaN  Southampton   yes   True   Titanic  0.965693   \n",
       "3  woman       False    C  Southampton   yes  False   Titanic  0.771249   \n",
       "4    man        True  NaN  Southampton    no   True   Titanic  0.339541   \n",
       "\n",
       "     noise2  \n",
       "0  0.443772  \n",
       "1  0.229310  \n",
       "2  0.603039  \n",
       "3  0.385821  \n",
       "4  0.741340  "
      ]
     },
     "execution_count": 52,
     "metadata": {},
     "output_type": "execute_result"
    }
   ],
   "source": [
    "# Add column of random noise, but don't actually save it\n",
    "titanic.assign(noise2 = np.random.rand(len(titanic))).head()"
   ]
  },
  {
   "cell_type": "markdown",
   "metadata": {},
   "source": [
    "Again, the `assign` is more flexible and probably a better idea. I'm going to drop the added variables and then move to adding multiple columns"
   ]
  },
  {
   "cell_type": "code",
   "execution_count": 53,
   "metadata": {},
   "outputs": [],
   "source": [
    "# Drop the 2 added variables\n",
    "titanic.drop(['broadcast', 'noise'], axis = 'columns', inplace=True)"
   ]
  },
  {
   "cell_type": "markdown",
   "metadata": {},
   "source": [
    "#### Adding Multiple Columns\n",
    "\n",
    "This is a pain with the direct assignment; it's essentially just repeating the 1 over and over\n",
    "\n",
    "Instead, I'll jump straight to `assign` and use it; as before, I won't save them to a new variable. If I wanted to keep it, I'd have to create a new dataframe to save the copy. "
   ]
  },
  {
   "cell_type": "code",
   "execution_count": 54,
   "metadata": {},
   "outputs": [
    {
     "data": {
      "text/html": [
       "<div>\n",
       "<style scoped>\n",
       "    .dataframe tbody tr th:only-of-type {\n",
       "        vertical-align: middle;\n",
       "    }\n",
       "\n",
       "    .dataframe tbody tr th {\n",
       "        vertical-align: top;\n",
       "    }\n",
       "\n",
       "    .dataframe thead th {\n",
       "        text-align: right;\n",
       "    }\n",
       "</style>\n",
       "<table border=\"1\" class=\"dataframe\">\n",
       "  <thead>\n",
       "    <tr style=\"text-align: right;\">\n",
       "      <th></th>\n",
       "      <th>survived</th>\n",
       "      <th>pclass</th>\n",
       "      <th>sex</th>\n",
       "      <th>age</th>\n",
       "      <th>sibsp</th>\n",
       "      <th>parch</th>\n",
       "      <th>fare</th>\n",
       "      <th>embarked</th>\n",
       "      <th>class</th>\n",
       "      <th>who</th>\n",
       "      <th>adult_male</th>\n",
       "      <th>deck</th>\n",
       "      <th>embark_town</th>\n",
       "      <th>alive</th>\n",
       "      <th>alone</th>\n",
       "      <th>broadcast</th>\n",
       "      <th>noise</th>\n",
       "    </tr>\n",
       "  </thead>\n",
       "  <tbody>\n",
       "    <tr>\n",
       "      <th>0</th>\n",
       "      <td>0</td>\n",
       "      <td>3</td>\n",
       "      <td>male</td>\n",
       "      <td>22.0</td>\n",
       "      <td>1</td>\n",
       "      <td>0</td>\n",
       "      <td>7.2500</td>\n",
       "      <td>S</td>\n",
       "      <td>Third</td>\n",
       "      <td>man</td>\n",
       "      <td>True</td>\n",
       "      <td>NaN</td>\n",
       "      <td>Southampton</td>\n",
       "      <td>no</td>\n",
       "      <td>False</td>\n",
       "      <td>Data Name</td>\n",
       "      <td>0.096075</td>\n",
       "    </tr>\n",
       "    <tr>\n",
       "      <th>1</th>\n",
       "      <td>1</td>\n",
       "      <td>1</td>\n",
       "      <td>female</td>\n",
       "      <td>38.0</td>\n",
       "      <td>1</td>\n",
       "      <td>0</td>\n",
       "      <td>71.2833</td>\n",
       "      <td>C</td>\n",
       "      <td>First</td>\n",
       "      <td>woman</td>\n",
       "      <td>False</td>\n",
       "      <td>C</td>\n",
       "      <td>Cherbourg</td>\n",
       "      <td>yes</td>\n",
       "      <td>False</td>\n",
       "      <td>Data Name</td>\n",
       "      <td>0.912215</td>\n",
       "    </tr>\n",
       "    <tr>\n",
       "      <th>2</th>\n",
       "      <td>1</td>\n",
       "      <td>3</td>\n",
       "      <td>female</td>\n",
       "      <td>26.0</td>\n",
       "      <td>0</td>\n",
       "      <td>0</td>\n",
       "      <td>7.9250</td>\n",
       "      <td>S</td>\n",
       "      <td>Third</td>\n",
       "      <td>woman</td>\n",
       "      <td>False</td>\n",
       "      <td>NaN</td>\n",
       "      <td>Southampton</td>\n",
       "      <td>yes</td>\n",
       "      <td>True</td>\n",
       "      <td>Data Name</td>\n",
       "      <td>0.286027</td>\n",
       "    </tr>\n",
       "    <tr>\n",
       "      <th>3</th>\n",
       "      <td>1</td>\n",
       "      <td>1</td>\n",
       "      <td>female</td>\n",
       "      <td>35.0</td>\n",
       "      <td>1</td>\n",
       "      <td>0</td>\n",
       "      <td>53.1000</td>\n",
       "      <td>S</td>\n",
       "      <td>First</td>\n",
       "      <td>woman</td>\n",
       "      <td>False</td>\n",
       "      <td>C</td>\n",
       "      <td>Southampton</td>\n",
       "      <td>yes</td>\n",
       "      <td>False</td>\n",
       "      <td>Data Name</td>\n",
       "      <td>0.273444</td>\n",
       "    </tr>\n",
       "    <tr>\n",
       "      <th>4</th>\n",
       "      <td>0</td>\n",
       "      <td>3</td>\n",
       "      <td>male</td>\n",
       "      <td>35.0</td>\n",
       "      <td>0</td>\n",
       "      <td>0</td>\n",
       "      <td>8.0500</td>\n",
       "      <td>S</td>\n",
       "      <td>Third</td>\n",
       "      <td>man</td>\n",
       "      <td>True</td>\n",
       "      <td>NaN</td>\n",
       "      <td>Southampton</td>\n",
       "      <td>no</td>\n",
       "      <td>True</td>\n",
       "      <td>Data Name</td>\n",
       "      <td>0.272392</td>\n",
       "    </tr>\n",
       "  </tbody>\n",
       "</table>\n",
       "</div>"
      ],
      "text/plain": [
       "   survived  pclass     sex   age  sibsp  parch     fare embarked  class  \\\n",
       "0         0       3    male  22.0      1      0   7.2500        S  Third   \n",
       "1         1       1  female  38.0      1      0  71.2833        C  First   \n",
       "2         1       3  female  26.0      0      0   7.9250        S  Third   \n",
       "3         1       1  female  35.0      1      0  53.1000        S  First   \n",
       "4         0       3    male  35.0      0      0   8.0500        S  Third   \n",
       "\n",
       "     who  adult_male deck  embark_town alive  alone  broadcast     noise  \n",
       "0    man        True  NaN  Southampton    no  False  Data Name  0.096075  \n",
       "1  woman       False    C    Cherbourg   yes  False  Data Name  0.912215  \n",
       "2  woman       False  NaN  Southampton   yes   True  Data Name  0.286027  \n",
       "3  woman       False    C  Southampton   yes  False  Data Name  0.273444  \n",
       "4    man        True  NaN  Southampton    no   True  Data Name  0.272392  "
      ]
     },
     "execution_count": 54,
     "metadata": {},
     "output_type": "execute_result"
    }
   ],
   "source": [
    "# Assign 2 more columns\n",
    "titanic.assign(broadcast = \"Data Name\",\n",
    "               noise = np.random.rand(len(titanic))).head()"
   ]
  },
  {
   "cell_type": "markdown",
   "metadata": {},
   "source": [
    "And that's it! There will be more on adding later, but that's in the context of other, more complicated operations. For now, let's move to renaming, which is super useful\n",
    "\n",
    "### Renaming Columns\n",
    "\n",
    "There's a couple ways to do it; first, there's the brute force way of just assigning ALL of the column names. \n",
    "\n",
    "\n",
    "#### Brute Force: Rename EVERYTHING\n",
    "\n",
    "For this, let's take a play slice of the titanic dataframe:"
   ]
  },
  {
   "cell_type": "code",
   "execution_count": 55,
   "metadata": {},
   "outputs": [],
   "source": [
    "# Take just the first 3 columns\n",
    "play_slice = titanic[['survived', 'pclass', 'sex']]"
   ]
  },
  {
   "cell_type": "markdown",
   "metadata": {},
   "source": [
    "Now, the brute force method just changes ALL the columns at once, so I have to do something like this:"
   ]
  },
  {
   "cell_type": "code",
   "execution_count": 56,
   "metadata": {},
   "outputs": [
    {
     "name": "stdout",
     "output_type": "stream",
     "text": [
      "<class 'pandas.core.frame.DataFrame'>\n",
      "RangeIndex: 891 entries, 0 to 890\n",
      "Data columns (total 3 columns):\n",
      "DidNotDie    891 non-null int64\n",
      "Fanciness    891 non-null int64\n",
      "Gender       891 non-null object\n",
      "dtypes: int64(2), object(1)\n",
      "memory usage: 21.0+ KB\n"
     ]
    }
   ],
   "source": [
    "play_slice.columns = ['DidNotDie', 'Fanciness', 'Gender']\n",
    "play_slice.info()"
   ]
  },
  {
   "cell_type": "markdown",
   "metadata": {},
   "source": [
    "That's a rather coarse way of doing things; if we want to be more fine about it, then we should use `rename`\n",
    "\n",
    "#### Better Way: Use `rename`\n",
    "\n",
    "The `rename` method allows me to supply a dictionary, where the keys are the current column names and the values are what I want to rename to. So I can do the same thing, but be more specific, in this case renaming to the original names:"
   ]
  },
  {
   "cell_type": "code",
   "execution_count": 57,
   "metadata": {},
   "outputs": [
    {
     "name": "stdout",
     "output_type": "stream",
     "text": [
      "<class 'pandas.core.frame.DataFrame'>\n",
      "RangeIndex: 891 entries, 0 to 890\n",
      "Data columns (total 3 columns):\n",
      "Survived    891 non-null int64\n",
      "Pclass      891 non-null int64\n",
      "Sex         891 non-null object\n",
      "dtypes: int64(2), object(1)\n",
      "memory usage: 21.0+ KB\n"
     ]
    }
   ],
   "source": [
    "play_slice.rename({'DidNotDie' : 'Survived',\n",
    "                   'Fanciness' : 'Pclass',\n",
    "                   'Gender' : 'Sex'}, axis = 'columns').info()"
   ]
  },
  {
   "cell_type": "markdown",
   "metadata": {},
   "source": [
    "**Important Note: I need to actually specify the axis argument, or else it'll think I mean the index instead of columns**\n",
    "\n",
    "The best parts about this method:\n",
    "\n",
    "* Won't automatically overwrite; have to specify `inplace` to do that\n",
    "* Finer control; can just specify a subset of columns to rename\n",
    "* Specificity; if a key doesn't match, it doesn't get changed\n",
    "\n",
    "In general, using `rename` is the way to go here. And that's the last of the \"basic\" operations; now let's move on to missing values."
   ]
  },
  {
   "cell_type": "markdown",
   "metadata": {},
   "source": [
    "## Missing Values\n",
    "\n",
    "There's a few different strategies here:\n",
    "\n",
    "* Drop rows with missing values\n",
    "* Fill with overall imputed value\n",
    "    * Mean\n",
    "    * Median\n",
    "* Fill imputed value by group\n",
    "* Fill with order (good for time series)\n",
    "    * Forward fill\n",
    "    * Backward fill\n",
    "\n",
    "### Drop Rows\n",
    "\n",
    "Doing this is simple:"
   ]
  },
  {
   "cell_type": "code",
   "execution_count": 58,
   "metadata": {},
   "outputs": [
    {
     "name": "stdout",
     "output_type": "stream",
     "text": [
      "<class 'pandas.core.frame.DataFrame'>\n",
      "Int64Index: 182 entries, 1 to 889\n",
      "Data columns (total 15 columns):\n",
      "survived       182 non-null int64\n",
      "pclass         182 non-null int64\n",
      "sex            182 non-null object\n",
      "age            182 non-null float64\n",
      "sibsp          182 non-null int64\n",
      "parch          182 non-null int64\n",
      "fare           182 non-null float64\n",
      "embarked       182 non-null object\n",
      "class          182 non-null category\n",
      "who            182 non-null object\n",
      "adult_male     182 non-null bool\n",
      "deck           182 non-null category\n",
      "embark_town    182 non-null object\n",
      "alive          182 non-null object\n",
      "alone          182 non-null bool\n",
      "dtypes: bool(2), category(2), float64(2), int64(4), object(5)\n",
      "memory usage: 18.2+ KB\n",
      "None\n"
     ]
    }
   ],
   "source": [
    "print(titanic.dropna().info())"
   ]
  },
  {
   "cell_type": "markdown",
   "metadata": {},
   "source": [
    "Clearly the problem here is that I lose most of the data, so this is clearly not a preferable strategy here. Better to probably impute things.\n",
    "\n",
    "### Impute them with overall values\n",
    "\n",
    "The most straightforward way is by using just the overall values here's filling age with the mean value:"
   ]
  },
  {
   "cell_type": "code",
   "execution_count": 59,
   "metadata": {},
   "outputs": [
    {
     "name": "stdout",
     "output_type": "stream",
     "text": [
      "count    891.000000\n",
      "mean      29.699118\n",
      "std       13.002015\n",
      "min        0.420000\n",
      "25%       22.000000\n",
      "50%       29.699118\n",
      "75%       35.000000\n",
      "max       80.000000\n",
      "Name: age, dtype: float64\n"
     ]
    }
   ],
   "source": [
    "# Calculate mean age\n",
    "mean_age = titanic.age.mean()\n",
    "\n",
    "# Fill with the mean age\n",
    "mean_fill = titanic.age.fillna(mean_age)\n",
    "\n",
    "# Print the info \n",
    "print(mean_fill.describe())"
   ]
  },
  {
   "cell_type": "markdown",
   "metadata": {},
   "source": [
    "So now it's filled with the mean, but maybe that doesn't make sense because the mean isn't a whole number. Fill it with the median instead!"
   ]
  },
  {
   "cell_type": "code",
   "execution_count": 60,
   "metadata": {},
   "outputs": [
    {
     "name": "stdout",
     "output_type": "stream",
     "text": [
      "count    891.000000\n",
      "mean      29.361582\n",
      "std       13.019697\n",
      "min        0.420000\n",
      "25%       22.000000\n",
      "50%       28.000000\n",
      "75%       35.000000\n",
      "max       80.000000\n",
      "Name: age, dtype: float64\n"
     ]
    }
   ],
   "source": [
    "# Calculate mean age\n",
    "median_age = titanic.age.median()\n",
    "\n",
    "# Fill with the mean age\n",
    "median_fill = titanic.age.fillna(median_age)\n",
    "\n",
    "# Print the info \n",
    "print(median_fill.describe())"
   ]
  },
  {
   "cell_type": "markdown",
   "metadata": {},
   "source": [
    "Now we have a whole number (28) that we're filling. \n",
    "\n",
    "### Impute them with grouped values\n",
    "\n",
    "The one problem I think we're now running into is that we're filling in the same age for everyone. That's despite the fact that we have info on people via the 'who' field:"
   ]
  },
  {
   "cell_type": "code",
   "execution_count": 61,
   "metadata": {},
   "outputs": [
    {
     "name": "stdout",
     "output_type": "stream",
     "text": [
      "['man' 'woman' 'child']\n"
     ]
    }
   ],
   "source": [
    "# Print it\n",
    "print(titanic.who.unique())"
   ]
  },
  {
   "cell_type": "markdown",
   "metadata": {},
   "source": [
    "So what about if we fill with group-specific values? Let's do it using the median:"
   ]
  },
  {
   "cell_type": "code",
   "execution_count": 62,
   "metadata": {},
   "outputs": [
    {
     "name": "stdout",
     "output_type": "stream",
     "text": [
      "count    891.000000\n",
      "mean      29.758889\n",
      "std       13.002570\n",
      "min        0.420000\n",
      "25%       22.000000\n",
      "50%       30.000000\n",
      "75%       35.000000\n",
      "max       80.000000\n",
      "Name: age, dtype: float64\n"
     ]
    }
   ],
   "source": [
    "# Fill the age\n",
    "median_group_fill = titanic.groupby('who')['age'].transform(lambda x: x.fillna(x.median()))\n",
    "print(median_group_fill.describe())"
   ]
  },
  {
   "cell_type": "markdown",
   "metadata": {},
   "source": [
    "This is probably the most accurate thing to do,as we've filled the groups individually. Great job! \n",
    "\n",
    "I'm going to fill like that and then drop the deck column"
   ]
  },
  {
   "cell_type": "code",
   "execution_count": 64,
   "metadata": {},
   "outputs": [],
   "source": [
    "titanic = titanic.assign(age = median_group_fill).drop(['deck'], axis = 'columns')"
   ]
  },
  {
   "cell_type": "markdown",
   "metadata": {},
   "source": [
    "Now I'm going to move on to how to combine and separate columns\n",
    "\n",
    "## Combining and Separating Columns\n",
    "\n",
    "Occasionally, it's important to combine 2 columns into 1. I'm actually going to try it using a sample data frame:"
   ]
  },
  {
   "cell_type": "code",
   "execution_count": 66,
   "metadata": {},
   "outputs": [
    {
     "data": {
      "text/html": [
       "<div>\n",
       "<style scoped>\n",
       "    .dataframe tbody tr th:only-of-type {\n",
       "        vertical-align: middle;\n",
       "    }\n",
       "\n",
       "    .dataframe tbody tr th {\n",
       "        vertical-align: top;\n",
       "    }\n",
       "\n",
       "    .dataframe thead th {\n",
       "        text-align: right;\n",
       "    }\n",
       "</style>\n",
       "<table border=\"1\" class=\"dataframe\">\n",
       "  <thead>\n",
       "    <tr style=\"text-align: right;\">\n",
       "      <th></th>\n",
       "      <th>name</th>\n",
       "      <th>number</th>\n",
       "      <th>type</th>\n",
       "    </tr>\n",
       "  </thead>\n",
       "  <tbody>\n",
       "    <tr>\n",
       "      <th>0</th>\n",
       "      <td>Sandy</td>\n",
       "      <td>1</td>\n",
       "      <td>sandwich</td>\n",
       "    </tr>\n",
       "    <tr>\n",
       "      <th>1</th>\n",
       "      <td>Jenny</td>\n",
       "      <td>5</td>\n",
       "      <td>meatball</td>\n",
       "    </tr>\n",
       "    <tr>\n",
       "      <th>2</th>\n",
       "      <td>Willian</td>\n",
       "      <td>3</td>\n",
       "      <td>sandwich</td>\n",
       "    </tr>\n",
       "    <tr>\n",
       "      <th>3</th>\n",
       "      <td>Juan</td>\n",
       "      <td>7</td>\n",
       "      <td>hotdog</td>\n",
       "    </tr>\n",
       "    <tr>\n",
       "      <th>4</th>\n",
       "      <td>Sandy</td>\n",
       "      <td>1</td>\n",
       "      <td>hotdog</td>\n",
       "    </tr>\n",
       "    <tr>\n",
       "      <th>5</th>\n",
       "      <td>Willian</td>\n",
       "      <td>3</td>\n",
       "      <td>meatball</td>\n",
       "    </tr>\n",
       "  </tbody>\n",
       "</table>\n",
       "</div>"
      ],
      "text/plain": [
       "      name  number      type\n",
       "0    Sandy       1  sandwich\n",
       "1    Jenny       5  meatball\n",
       "2  Willian       3  sandwich\n",
       "3     Juan       7    hotdog\n",
       "4    Sandy       1    hotdog\n",
       "5  Willian       3  meatball"
      ]
     },
     "execution_count": 66,
     "metadata": {},
     "output_type": "execute_result"
    }
   ],
   "source": [
    "# Create sample data frame\n",
    "sample_df = pd.DataFrame({'name': ['Sandy', 'Jenny', 'Willian', 'Juan', 'Sandy', 'Willian'],\n",
    "                          'number': [1, 5, 3, 7, 1, 3],\n",
    "                          'type': ['sandwich', 'meatball', 'sandwich', 'hotdog', 'hotdog', 'meatball']})\n",
    "sample_df"
   ]
  },
  {
   "cell_type": "markdown",
   "metadata": {},
   "source": [
    "Now I'll start by combining\n",
    "\n",
    "### Combining 2 Columns\n",
    "\n",
    "There's a couple different cases here:\n",
    "\n",
    "1. Simple combination, no dimension change\n",
    "2. Complex combination, reduction of dimensions\n",
    "\n",
    "#### Simple Column Combinations\n",
    "\n",
    "Let's do the simple case of putting these together; need to use the `str` tag here to change the non-string column:"
   ]
  },
  {
   "cell_type": "code",
   "execution_count": 84,
   "metadata": {},
   "outputs": [
    {
     "data": {
      "text/html": [
       "<div>\n",
       "<style scoped>\n",
       "    .dataframe tbody tr th:only-of-type {\n",
       "        vertical-align: middle;\n",
       "    }\n",
       "\n",
       "    .dataframe tbody tr th {\n",
       "        vertical-align: top;\n",
       "    }\n",
       "\n",
       "    .dataframe thead th {\n",
       "        text-align: right;\n",
       "    }\n",
       "</style>\n",
       "<table border=\"1\" class=\"dataframe\">\n",
       "  <thead>\n",
       "    <tr style=\"text-align: right;\">\n",
       "      <th></th>\n",
       "      <th>name</th>\n",
       "      <th>number</th>\n",
       "      <th>type</th>\n",
       "      <th>combined</th>\n",
       "    </tr>\n",
       "  </thead>\n",
       "  <tbody>\n",
       "    <tr>\n",
       "      <th>0</th>\n",
       "      <td>Sandy</td>\n",
       "      <td>1</td>\n",
       "      <td>sandwich</td>\n",
       "      <td>Sandy-1</td>\n",
       "    </tr>\n",
       "    <tr>\n",
       "      <th>1</th>\n",
       "      <td>Jenny</td>\n",
       "      <td>5</td>\n",
       "      <td>meatball</td>\n",
       "      <td>Jenny-5</td>\n",
       "    </tr>\n",
       "    <tr>\n",
       "      <th>2</th>\n",
       "      <td>Willian</td>\n",
       "      <td>3</td>\n",
       "      <td>sandwich</td>\n",
       "      <td>Willian-3</td>\n",
       "    </tr>\n",
       "    <tr>\n",
       "      <th>3</th>\n",
       "      <td>Juan</td>\n",
       "      <td>7</td>\n",
       "      <td>hotdog</td>\n",
       "      <td>Juan-7</td>\n",
       "    </tr>\n",
       "    <tr>\n",
       "      <th>4</th>\n",
       "      <td>Sandy</td>\n",
       "      <td>1</td>\n",
       "      <td>hotdog</td>\n",
       "      <td>Sandy-1</td>\n",
       "    </tr>\n",
       "    <tr>\n",
       "      <th>5</th>\n",
       "      <td>Willian</td>\n",
       "      <td>3</td>\n",
       "      <td>meatball</td>\n",
       "      <td>Willian-3</td>\n",
       "    </tr>\n",
       "  </tbody>\n",
       "</table>\n",
       "</div>"
      ],
      "text/plain": [
       "      name  number      type   combined\n",
       "0    Sandy       1  sandwich    Sandy-1\n",
       "1    Jenny       5  meatball    Jenny-5\n",
       "2  Willian       3  sandwich  Willian-3\n",
       "3     Juan       7    hotdog     Juan-7\n",
       "4    Sandy       1    hotdog    Sandy-1\n",
       "5  Willian       3  meatball  Willian-3"
      ]
     },
     "execution_count": 84,
     "metadata": {},
     "output_type": "execute_result"
    }
   ],
   "source": [
    "simple_combine = sample_df.assign(combined = sample_df['name'] + '-' + sample_df['number'].map(str))\n",
    "simple_combine"
   ]
  },
  {
   "cell_type": "markdown",
   "metadata": {},
   "source": [
    "This type of simple combination may help for combining 2 columns, at which point we could drop the individual columns. But a more complex case exists!\n",
    "\n",
    "#### Complex Column Combinations\n",
    "\n",
    "Let's say we wanted to collapse each of these records into a semi-colon delimited thing. So Sandy would have type of 'sandwich;hotdog'. To do this, we need to melt:"
   ]
  },
  {
   "cell_type": "code",
   "execution_count": 83,
   "metadata": {},
   "outputs": [
    {
     "data": {
      "text/html": [
       "<div>\n",
       "<style scoped>\n",
       "    .dataframe tbody tr th:only-of-type {\n",
       "        vertical-align: middle;\n",
       "    }\n",
       "\n",
       "    .dataframe tbody tr th {\n",
       "        vertical-align: top;\n",
       "    }\n",
       "\n",
       "    .dataframe thead th {\n",
       "        text-align: right;\n",
       "    }\n",
       "</style>\n",
       "<table border=\"1\" class=\"dataframe\">\n",
       "  <thead>\n",
       "    <tr style=\"text-align: right;\">\n",
       "      <th></th>\n",
       "      <th>name</th>\n",
       "      <th>number</th>\n",
       "      <th>Joined</th>\n",
       "    </tr>\n",
       "  </thead>\n",
       "  <tbody>\n",
       "    <tr>\n",
       "      <th>0</th>\n",
       "      <td>Sandy</td>\n",
       "      <td>1</td>\n",
       "      <td>sandwich;hotdog</td>\n",
       "    </tr>\n",
       "    <tr>\n",
       "      <th>1</th>\n",
       "      <td>Jenny</td>\n",
       "      <td>5</td>\n",
       "      <td>meatball</td>\n",
       "    </tr>\n",
       "    <tr>\n",
       "      <th>2</th>\n",
       "      <td>Willian</td>\n",
       "      <td>3</td>\n",
       "      <td>sandwich;meatball</td>\n",
       "    </tr>\n",
       "    <tr>\n",
       "      <th>3</th>\n",
       "      <td>Juan</td>\n",
       "      <td>7</td>\n",
       "      <td>hotdog</td>\n",
       "    </tr>\n",
       "  </tbody>\n",
       "</table>\n",
       "</div>"
      ],
      "text/plain": [
       "      name  number             Joined\n",
       "0    Sandy       1    sandwich;hotdog\n",
       "1    Jenny       5           meatball\n",
       "2  Willian       3  sandwich;meatball\n",
       "3     Juan       7             hotdog"
      ]
     },
     "execution_count": 83,
     "metadata": {},
     "output_type": "execute_result"
    }
   ],
   "source": [
    "complex_combine = sample_df.assign(Joined = sample_df.groupby(['name','number'], as_index=False).transform(lambda x: ';'.join(x))).drop(['type'], axis = 'columns').drop_duplicates()\n",
    "\n",
    "complex_combine"
   ]
  },
  {
   "cell_type": "markdown",
   "metadata": {},
   "source": [
    "Just to recap on that, we did the following:\n",
    "\n",
    "* Grouped by name and number to keep a person's records together\n",
    "* Transformed by joining, using a lambda function and semi-colon as delimiter\n",
    "* Dropped the type, so we don't have both type AND joined type\n",
    "* Dropped the duplicates, so we only have the unique records\n",
    "\n",
    "The `transform` command is super useful, as I think it's the best thing to approximate a window function. This will get its own section later, but for now, on to separating columns!"
   ]
  },
  {
   "cell_type": "markdown",
   "metadata": {},
   "source": [
    "### Separating Columns\n",
    "\n",
    "Again, there's 2 basic ways to do this:\n",
    "\n",
    "* Simple separation (non-redundant values)\n",
    "* Complex separation (redundant values)\n",
    "\n",
    "Let's start with the simple case\n",
    "\n",
    "#### Simple separation\n",
    "\n",
    "We'll start with the simple combined case and separate it. It's a fairly simple operation; one way is by doing it step by step, saving as we go."
   ]
  },
  {
   "cell_type": "code",
   "execution_count": 100,
   "metadata": {},
   "outputs": [
    {
     "data": {
      "text/html": [
       "<div>\n",
       "<style scoped>\n",
       "    .dataframe tbody tr th:only-of-type {\n",
       "        vertical-align: middle;\n",
       "    }\n",
       "\n",
       "    .dataframe tbody tr th {\n",
       "        vertical-align: top;\n",
       "    }\n",
       "\n",
       "    .dataframe thead th {\n",
       "        text-align: right;\n",
       "    }\n",
       "</style>\n",
       "<table border=\"1\" class=\"dataframe\">\n",
       "  <thead>\n",
       "    <tr style=\"text-align: right;\">\n",
       "      <th></th>\n",
       "      <th>name</th>\n",
       "      <th>number</th>\n",
       "      <th>type</th>\n",
       "      <th>combined</th>\n",
       "      <th>str_split</th>\n",
       "      <th>name2</th>\n",
       "      <th>number2</th>\n",
       "    </tr>\n",
       "  </thead>\n",
       "  <tbody>\n",
       "    <tr>\n",
       "      <th>0</th>\n",
       "      <td>Sandy</td>\n",
       "      <td>1</td>\n",
       "      <td>sandwich</td>\n",
       "      <td>Sandy-1</td>\n",
       "      <td>[Sandy, 1]</td>\n",
       "      <td>Sandy</td>\n",
       "      <td>1</td>\n",
       "    </tr>\n",
       "    <tr>\n",
       "      <th>1</th>\n",
       "      <td>Jenny</td>\n",
       "      <td>5</td>\n",
       "      <td>meatball</td>\n",
       "      <td>Jenny-5</td>\n",
       "      <td>[Jenny, 5]</td>\n",
       "      <td>Jenny</td>\n",
       "      <td>5</td>\n",
       "    </tr>\n",
       "    <tr>\n",
       "      <th>2</th>\n",
       "      <td>Willian</td>\n",
       "      <td>3</td>\n",
       "      <td>sandwich</td>\n",
       "      <td>Willian-3</td>\n",
       "      <td>[Willian, 3]</td>\n",
       "      <td>Willian</td>\n",
       "      <td>3</td>\n",
       "    </tr>\n",
       "    <tr>\n",
       "      <th>3</th>\n",
       "      <td>Juan</td>\n",
       "      <td>7</td>\n",
       "      <td>hotdog</td>\n",
       "      <td>Juan-7</td>\n",
       "      <td>[Juan, 7]</td>\n",
       "      <td>Juan</td>\n",
       "      <td>7</td>\n",
       "    </tr>\n",
       "    <tr>\n",
       "      <th>4</th>\n",
       "      <td>Sandy</td>\n",
       "      <td>1</td>\n",
       "      <td>hotdog</td>\n",
       "      <td>Sandy-1</td>\n",
       "      <td>[Sandy, 1]</td>\n",
       "      <td>Sandy</td>\n",
       "      <td>1</td>\n",
       "    </tr>\n",
       "    <tr>\n",
       "      <th>5</th>\n",
       "      <td>Willian</td>\n",
       "      <td>3</td>\n",
       "      <td>meatball</td>\n",
       "      <td>Willian-3</td>\n",
       "      <td>[Willian, 3]</td>\n",
       "      <td>Willian</td>\n",
       "      <td>3</td>\n",
       "    </tr>\n",
       "  </tbody>\n",
       "</table>\n",
       "</div>"
      ],
      "text/plain": [
       "      name  number      type   combined     str_split    name2 number2\n",
       "0    Sandy       1  sandwich    Sandy-1    [Sandy, 1]    Sandy       1\n",
       "1    Jenny       5  meatball    Jenny-5    [Jenny, 5]    Jenny       5\n",
       "2  Willian       3  sandwich  Willian-3  [Willian, 3]  Willian       3\n",
       "3     Juan       7    hotdog     Juan-7     [Juan, 7]     Juan       7\n",
       "4    Sandy       1    hotdog    Sandy-1    [Sandy, 1]    Sandy       1\n",
       "5  Willian       3  meatball  Willian-3  [Willian, 3]  Willian       3"
      ]
     },
     "execution_count": 100,
     "metadata": {},
     "output_type": "execute_result"
    }
   ],
   "source": [
    "# Get the split into a list\n",
    "simple_combine['str_split'] =simple_combine['combined'].str.split('-')\n",
    "\n",
    "# Split off each argument into a column of its own\n",
    "simple_combine['name2'] = simple_combine['str_split'].str.get(0)\n",
    "simple_combine['number2'] = simple_combine['str_split'].str.get(1)\n",
    "simple_combine"
   ]
  },
  {
   "cell_type": "markdown",
   "metadata": {},
   "source": [
    "That's one way to do it; another way is by using the `tolist()` function:"
   ]
  },
  {
   "cell_type": "code",
   "execution_count": 102,
   "metadata": {},
   "outputs": [
    {
     "data": {
      "text/html": [
       "<div>\n",
       "<style scoped>\n",
       "    .dataframe tbody tr th:only-of-type {\n",
       "        vertical-align: middle;\n",
       "    }\n",
       "\n",
       "    .dataframe tbody tr th {\n",
       "        vertical-align: top;\n",
       "    }\n",
       "\n",
       "    .dataframe thead th {\n",
       "        text-align: right;\n",
       "    }\n",
       "</style>\n",
       "<table border=\"1\" class=\"dataframe\">\n",
       "  <thead>\n",
       "    <tr style=\"text-align: right;\">\n",
       "      <th></th>\n",
       "      <th>name</th>\n",
       "      <th>number</th>\n",
       "      <th>type</th>\n",
       "      <th>combined</th>\n",
       "      <th>str_split</th>\n",
       "      <th>name2</th>\n",
       "      <th>number2</th>\n",
       "      <th>name3</th>\n",
       "      <th>number3</th>\n",
       "    </tr>\n",
       "  </thead>\n",
       "  <tbody>\n",
       "    <tr>\n",
       "      <th>0</th>\n",
       "      <td>Sandy</td>\n",
       "      <td>1</td>\n",
       "      <td>sandwich</td>\n",
       "      <td>Sandy-1</td>\n",
       "      <td>[Sandy, 1]</td>\n",
       "      <td>Sandy</td>\n",
       "      <td>1</td>\n",
       "      <td>Sandy</td>\n",
       "      <td>1</td>\n",
       "    </tr>\n",
       "    <tr>\n",
       "      <th>1</th>\n",
       "      <td>Jenny</td>\n",
       "      <td>5</td>\n",
       "      <td>meatball</td>\n",
       "      <td>Jenny-5</td>\n",
       "      <td>[Jenny, 5]</td>\n",
       "      <td>Jenny</td>\n",
       "      <td>5</td>\n",
       "      <td>Jenny</td>\n",
       "      <td>5</td>\n",
       "    </tr>\n",
       "    <tr>\n",
       "      <th>2</th>\n",
       "      <td>Willian</td>\n",
       "      <td>3</td>\n",
       "      <td>sandwich</td>\n",
       "      <td>Willian-3</td>\n",
       "      <td>[Willian, 3]</td>\n",
       "      <td>Willian</td>\n",
       "      <td>3</td>\n",
       "      <td>Willian</td>\n",
       "      <td>3</td>\n",
       "    </tr>\n",
       "    <tr>\n",
       "      <th>3</th>\n",
       "      <td>Juan</td>\n",
       "      <td>7</td>\n",
       "      <td>hotdog</td>\n",
       "      <td>Juan-7</td>\n",
       "      <td>[Juan, 7]</td>\n",
       "      <td>Juan</td>\n",
       "      <td>7</td>\n",
       "      <td>Juan</td>\n",
       "      <td>7</td>\n",
       "    </tr>\n",
       "    <tr>\n",
       "      <th>4</th>\n",
       "      <td>Sandy</td>\n",
       "      <td>1</td>\n",
       "      <td>hotdog</td>\n",
       "      <td>Sandy-1</td>\n",
       "      <td>[Sandy, 1]</td>\n",
       "      <td>Sandy</td>\n",
       "      <td>1</td>\n",
       "      <td>Sandy</td>\n",
       "      <td>1</td>\n",
       "    </tr>\n",
       "    <tr>\n",
       "      <th>5</th>\n",
       "      <td>Willian</td>\n",
       "      <td>3</td>\n",
       "      <td>meatball</td>\n",
       "      <td>Willian-3</td>\n",
       "      <td>[Willian, 3]</td>\n",
       "      <td>Willian</td>\n",
       "      <td>3</td>\n",
       "      <td>Willian</td>\n",
       "      <td>3</td>\n",
       "    </tr>\n",
       "  </tbody>\n",
       "</table>\n",
       "</div>"
      ],
      "text/plain": [
       "      name  number      type   combined     str_split    name2 number2  \\\n",
       "0    Sandy       1  sandwich    Sandy-1    [Sandy, 1]    Sandy       1   \n",
       "1    Jenny       5  meatball    Jenny-5    [Jenny, 5]    Jenny       5   \n",
       "2  Willian       3  sandwich  Willian-3  [Willian, 3]  Willian       3   \n",
       "3     Juan       7    hotdog     Juan-7     [Juan, 7]     Juan       7   \n",
       "4    Sandy       1    hotdog    Sandy-1    [Sandy, 1]    Sandy       1   \n",
       "5  Willian       3  meatball  Willian-3  [Willian, 3]  Willian       3   \n",
       "\n",
       "     name3 number3  \n",
       "0    Sandy       1  \n",
       "1    Jenny       5  \n",
       "2  Willian       3  \n",
       "3     Juan       7  \n",
       "4    Sandy       1  \n",
       "5  Willian       3  "
      ]
     },
     "execution_count": 102,
     "metadata": {},
     "output_type": "execute_result"
    }
   ],
   "source": [
    "simple_combine[['name3','number3']] = pd.DataFrame(simple_combine['combined'].str.split('-').tolist())\n",
    "simple_combine"
   ]
  },
  {
   "cell_type": "markdown",
   "metadata": {},
   "source": [
    "This way is MUCH faster; I should do this in the future. Now I'll move to the complex splitting\n",
    "\n",
    "#### Complex Separation\n",
    "\n",
    "This is what to use when we want to \"explode\" the data. For instance, recall the complex combined data:"
   ]
  },
  {
   "cell_type": "code",
   "execution_count": 103,
   "metadata": {},
   "outputs": [
    {
     "data": {
      "text/html": [
       "<div>\n",
       "<style scoped>\n",
       "    .dataframe tbody tr th:only-of-type {\n",
       "        vertical-align: middle;\n",
       "    }\n",
       "\n",
       "    .dataframe tbody tr th {\n",
       "        vertical-align: top;\n",
       "    }\n",
       "\n",
       "    .dataframe thead th {\n",
       "        text-align: right;\n",
       "    }\n",
       "</style>\n",
       "<table border=\"1\" class=\"dataframe\">\n",
       "  <thead>\n",
       "    <tr style=\"text-align: right;\">\n",
       "      <th></th>\n",
       "      <th>name</th>\n",
       "      <th>number</th>\n",
       "      <th>Joined</th>\n",
       "    </tr>\n",
       "  </thead>\n",
       "  <tbody>\n",
       "    <tr>\n",
       "      <th>0</th>\n",
       "      <td>Sandy</td>\n",
       "      <td>1</td>\n",
       "      <td>sandwich;hotdog</td>\n",
       "    </tr>\n",
       "    <tr>\n",
       "      <th>1</th>\n",
       "      <td>Jenny</td>\n",
       "      <td>5</td>\n",
       "      <td>meatball</td>\n",
       "    </tr>\n",
       "    <tr>\n",
       "      <th>2</th>\n",
       "      <td>Willian</td>\n",
       "      <td>3</td>\n",
       "      <td>sandwich;meatball</td>\n",
       "    </tr>\n",
       "    <tr>\n",
       "      <th>3</th>\n",
       "      <td>Juan</td>\n",
       "      <td>7</td>\n",
       "      <td>hotdog</td>\n",
       "    </tr>\n",
       "  </tbody>\n",
       "</table>\n",
       "</div>"
      ],
      "text/plain": [
       "      name  number             Joined\n",
       "0    Sandy       1    sandwich;hotdog\n",
       "1    Jenny       5           meatball\n",
       "2  Willian       3  sandwich;meatball\n",
       "3     Juan       7             hotdog"
      ]
     },
     "execution_count": 103,
     "metadata": {},
     "output_type": "execute_result"
    }
   ],
   "source": [
    "# Print the combined data\n",
    "complex_combine"
   ]
  },
  {
   "cell_type": "markdown",
   "metadata": {},
   "source": [
    "In this case, I have redundant values, as Sandy and Willian will have to be repeated if I separate the joined column. But I can do this and return the original dataframe data; I'm going to make a function that does it:"
   ]
  },
  {
   "cell_type": "code",
   "execution_count": 104,
   "metadata": {},
   "outputs": [],
   "source": [
    "def splitExpandColumn(df, col_name, delimiter = ','):\n",
    "    '''Split a column of a dataframe given a delimiter'''\n",
    "    \n",
    "    # Split the column on commas and stack them up\n",
    "    s = df[col_name].str.split(delimiter, expand=True).stack()\n",
    "    # Grab the initial row numbers from the stacked values\n",
    "    i = s.index.get_level_values(0)\n",
    "    # Using the index, copy the rows to match the stacked values\n",
    "    df2 = df.loc[i].copy()\n",
    "    # Replace the comma-separated column with the split values\n",
    "    df2[col_name] = s.values\n",
    "    \n",
    "    return df2"
   ]
  },
  {
   "cell_type": "markdown",
   "metadata": {},
   "source": [
    "Now apply it:"
   ]
  },
  {
   "cell_type": "code",
   "execution_count": 105,
   "metadata": {},
   "outputs": [
    {
     "data": {
      "text/html": [
       "<div>\n",
       "<style scoped>\n",
       "    .dataframe tbody tr th:only-of-type {\n",
       "        vertical-align: middle;\n",
       "    }\n",
       "\n",
       "    .dataframe tbody tr th {\n",
       "        vertical-align: top;\n",
       "    }\n",
       "\n",
       "    .dataframe thead th {\n",
       "        text-align: right;\n",
       "    }\n",
       "</style>\n",
       "<table border=\"1\" class=\"dataframe\">\n",
       "  <thead>\n",
       "    <tr style=\"text-align: right;\">\n",
       "      <th></th>\n",
       "      <th>name</th>\n",
       "      <th>number</th>\n",
       "      <th>Joined</th>\n",
       "    </tr>\n",
       "  </thead>\n",
       "  <tbody>\n",
       "    <tr>\n",
       "      <th>0</th>\n",
       "      <td>Sandy</td>\n",
       "      <td>1</td>\n",
       "      <td>sandwich</td>\n",
       "    </tr>\n",
       "    <tr>\n",
       "      <th>0</th>\n",
       "      <td>Sandy</td>\n",
       "      <td>1</td>\n",
       "      <td>hotdog</td>\n",
       "    </tr>\n",
       "    <tr>\n",
       "      <th>1</th>\n",
       "      <td>Jenny</td>\n",
       "      <td>5</td>\n",
       "      <td>meatball</td>\n",
       "    </tr>\n",
       "    <tr>\n",
       "      <th>2</th>\n",
       "      <td>Willian</td>\n",
       "      <td>3</td>\n",
       "      <td>sandwich</td>\n",
       "    </tr>\n",
       "    <tr>\n",
       "      <th>2</th>\n",
       "      <td>Willian</td>\n",
       "      <td>3</td>\n",
       "      <td>meatball</td>\n",
       "    </tr>\n",
       "    <tr>\n",
       "      <th>3</th>\n",
       "      <td>Juan</td>\n",
       "      <td>7</td>\n",
       "      <td>hotdog</td>\n",
       "    </tr>\n",
       "  </tbody>\n",
       "</table>\n",
       "</div>"
      ],
      "text/plain": [
       "      name  number    Joined\n",
       "0    Sandy       1  sandwich\n",
       "0    Sandy       1    hotdog\n",
       "1    Jenny       5  meatball\n",
       "2  Willian       3  sandwich\n",
       "2  Willian       3  meatball\n",
       "3     Juan       7    hotdog"
      ]
     },
     "execution_count": 105,
     "metadata": {},
     "output_type": "execute_result"
    }
   ],
   "source": [
    "splitExpandColumn(complex_combine, 'Joined', ';')"
   ]
  },
  {
   "cell_type": "markdown",
   "metadata": {},
   "source": [
    "## Grouping and Aggregation: Simple Stuff\n",
    "\n",
    "These 2 go hand in hand and they're super useful! There's a few things I want to cover here:\n",
    "\n",
    "* Basic grouping + aggregation functions\n",
    "* Multiple Aggregations\n",
    "* Grouping + Filtering\n",
    "* Grouping + Transforming\n",
    "\n",
    "I'll start with the most basic, using the titanic dataset\n",
    "\n",
    "### Basic Grouping + Aggregation \n",
    "\n",
    "All we have to do here is group by some variable and then do an aggregation. In this case, I'll take the mean ages by \"who\":"
   ]
  },
  {
   "cell_type": "code",
   "execution_count": 107,
   "metadata": {},
   "outputs": [
    {
     "data": {
      "text/plain": [
       "who\n",
       "child     6.369518\n",
       "man      32.440410\n",
       "woman    31.608856\n",
       "Name: age, dtype: float64"
      ]
     },
     "execution_count": 107,
     "metadata": {},
     "output_type": "execute_result"
    }
   ],
   "source": [
    "# Group by person type (man/woman/child) and get mean age\n",
    "titanic.groupby('who')['age'].mean()"
   ]
  },
  {
   "cell_type": "markdown",
   "metadata": {},
   "source": [
    "Worth noting: if I don't pull just the `age` column, I'll get the mean for every column.\n",
    "\n",
    "There's not much too this; lots of different functions work, but I can also do some custom function if needed:"
   ]
  },
  {
   "cell_type": "code",
   "execution_count": 108,
   "metadata": {},
   "outputs": [
    {
     "data": {
      "text/plain": [
       "who\n",
       "child    14.58\n",
       "man      64.00\n",
       "woman    47.00\n",
       "Name: age, dtype: float64"
      ]
     },
     "execution_count": 108,
     "metadata": {},
     "output_type": "execute_result"
    }
   ],
   "source": [
    "# Get the range of ages\n",
    "titanic.groupby('who')['age'].agg(lambda x: max(x) - min(x))"
   ]
  },
  {
   "cell_type": "markdown",
   "metadata": {},
   "source": [
    "The `agg` function comes in handy here and it's even more useful (and quite necessary) for doing multiple aggregations.\n",
    "\n",
    "### Multiple Aggregations\n",
    "\n",
    "Sometimes I want to get multiple values, such as the mean AND standard deviation. In this case, I want to use `agg` again, but now I want to give it multiple things back. Let's also save this to a variable so I can show something else..."
   ]
  },
  {
   "cell_type": "code",
   "execution_count": 112,
   "metadata": {},
   "outputs": [
    {
     "data": {
      "text/html": [
       "<div>\n",
       "<style scoped>\n",
       "    .dataframe tbody tr th:only-of-type {\n",
       "        vertical-align: middle;\n",
       "    }\n",
       "\n",
       "    .dataframe tbody tr th {\n",
       "        vertical-align: top;\n",
       "    }\n",
       "\n",
       "    .dataframe thead th {\n",
       "        text-align: right;\n",
       "    }\n",
       "</style>\n",
       "<table border=\"1\" class=\"dataframe\">\n",
       "  <thead>\n",
       "    <tr style=\"text-align: right;\">\n",
       "      <th></th>\n",
       "      <th>mean</th>\n",
       "      <th>sem</th>\n",
       "    </tr>\n",
       "    <tr>\n",
       "      <th>who</th>\n",
       "      <th></th>\n",
       "      <th></th>\n",
       "    </tr>\n",
       "  </thead>\n",
       "  <tbody>\n",
       "    <tr>\n",
       "      <th>child</th>\n",
       "      <td>6.369518</td>\n",
       "      <td>0.519082</td>\n",
       "    </tr>\n",
       "    <tr>\n",
       "      <th>man</th>\n",
       "      <td>32.440410</td>\n",
       "      <td>0.491720</td>\n",
       "    </tr>\n",
       "    <tr>\n",
       "      <th>woman</th>\n",
       "      <td>31.608856</td>\n",
       "      <td>0.627880</td>\n",
       "    </tr>\n",
       "  </tbody>\n",
       "</table>\n",
       "</div>"
      ],
      "text/plain": [
       "            mean       sem\n",
       "who                       \n",
       "child   6.369518  0.519082\n",
       "man    32.440410  0.491720\n",
       "woman  31.608856  0.627880"
      ]
     },
     "execution_count": 112,
     "metadata": {},
     "output_type": "execute_result"
    }
   ],
   "source": [
    "# Get mean AND standard error of the mean\n",
    "grouped_stats = titanic.groupby('who')['age'].agg(['mean','sem'])\n",
    "grouped_stats"
   ]
  },
  {
   "cell_type": "markdown",
   "metadata": {},
   "source": [
    "Now say that I want to actually access these values; it's fairly straightforward"
   ]
  },
  {
   "cell_type": "code",
   "execution_count": 113,
   "metadata": {},
   "outputs": [
    {
     "data": {
      "text/plain": [
       "who\n",
       "child     6.369518\n",
       "man      32.440410\n",
       "woman    31.608856\n",
       "Name: mean, dtype: float64"
      ]
     },
     "execution_count": 113,
     "metadata": {},
     "output_type": "execute_result"
    }
   ],
   "source": [
    "grouped_stats['mean']"
   ]
  },
  {
   "cell_type": "markdown",
   "metadata": {},
   "source": [
    "This is pretty easy and I can, as before, do custom functions. I could also take different aggregations of different variables:"
   ]
  },
  {
   "cell_type": "code",
   "execution_count": 119,
   "metadata": {},
   "outputs": [
    {
     "data": {
      "text/html": [
       "<div>\n",
       "<style scoped>\n",
       "    .dataframe tbody tr th:only-of-type {\n",
       "        vertical-align: middle;\n",
       "    }\n",
       "\n",
       "    .dataframe tbody tr th {\n",
       "        vertical-align: top;\n",
       "    }\n",
       "\n",
       "    .dataframe thead tr th {\n",
       "        text-align: left;\n",
       "    }\n",
       "\n",
       "    .dataframe thead tr:last-of-type th {\n",
       "        text-align: right;\n",
       "    }\n",
       "</style>\n",
       "<table border=\"1\" class=\"dataframe\">\n",
       "  <thead>\n",
       "    <tr>\n",
       "      <th></th>\n",
       "      <th colspan=\"2\" halign=\"left\">age</th>\n",
       "      <th colspan=\"2\" halign=\"left\">survived</th>\n",
       "    </tr>\n",
       "    <tr>\n",
       "      <th></th>\n",
       "      <th>mean</th>\n",
       "      <th>median</th>\n",
       "      <th>mean</th>\n",
       "      <th>sem</th>\n",
       "    </tr>\n",
       "    <tr>\n",
       "      <th>who</th>\n",
       "      <th></th>\n",
       "      <th></th>\n",
       "      <th></th>\n",
       "      <th></th>\n",
       "    </tr>\n",
       "  </thead>\n",
       "  <tbody>\n",
       "    <tr>\n",
       "      <th>child</th>\n",
       "      <td>6.369518</td>\n",
       "      <td>5.0</td>\n",
       "      <td>0.590361</td>\n",
       "      <td>0.054307</td>\n",
       "    </tr>\n",
       "    <tr>\n",
       "      <th>man</th>\n",
       "      <td>32.440410</td>\n",
       "      <td>30.0</td>\n",
       "      <td>0.163873</td>\n",
       "      <td>0.015989</td>\n",
       "    </tr>\n",
       "    <tr>\n",
       "      <th>woman</th>\n",
       "      <td>31.608856</td>\n",
       "      <td>30.0</td>\n",
       "      <td>0.756458</td>\n",
       "      <td>0.026121</td>\n",
       "    </tr>\n",
       "  </tbody>\n",
       "</table>\n",
       "</div>"
      ],
      "text/plain": [
       "             age         survived          \n",
       "            mean median      mean       sem\n",
       "who                                        \n",
       "child   6.369518    5.0  0.590361  0.054307\n",
       "man    32.440410   30.0  0.163873  0.015989\n",
       "woman  31.608856   30.0  0.756458  0.026121"
      ]
     },
     "execution_count": 119,
     "metadata": {},
     "output_type": "execute_result"
    }
   ],
   "source": [
    "# Do both age and survived, but do different aggregations\n",
    "grouped_diff = titanic.groupby('who').agg({'age' : ['mean','median'],\n",
    "                                           'survived' : ['mean', 'sem']})\n",
    "grouped_diff"
   ]
  },
  {
   "cell_type": "markdown",
   "metadata": {},
   "source": [
    "Now we can access each separately, using pretty intuitive notation on the multi-indexed columns:. To get all sub-columns under 1 heading:"
   ]
  },
  {
   "cell_type": "code",
   "execution_count": 122,
   "metadata": {},
   "outputs": [
    {
     "data": {
      "text/html": [
       "<div>\n",
       "<style scoped>\n",
       "    .dataframe tbody tr th:only-of-type {\n",
       "        vertical-align: middle;\n",
       "    }\n",
       "\n",
       "    .dataframe tbody tr th {\n",
       "        vertical-align: top;\n",
       "    }\n",
       "\n",
       "    .dataframe thead th {\n",
       "        text-align: right;\n",
       "    }\n",
       "</style>\n",
       "<table border=\"1\" class=\"dataframe\">\n",
       "  <thead>\n",
       "    <tr style=\"text-align: right;\">\n",
       "      <th></th>\n",
       "      <th>mean</th>\n",
       "      <th>median</th>\n",
       "    </tr>\n",
       "    <tr>\n",
       "      <th>who</th>\n",
       "      <th></th>\n",
       "      <th></th>\n",
       "    </tr>\n",
       "  </thead>\n",
       "  <tbody>\n",
       "    <tr>\n",
       "      <th>child</th>\n",
       "      <td>6.369518</td>\n",
       "      <td>5.0</td>\n",
       "    </tr>\n",
       "    <tr>\n",
       "      <th>man</th>\n",
       "      <td>32.440410</td>\n",
       "      <td>30.0</td>\n",
       "    </tr>\n",
       "    <tr>\n",
       "      <th>woman</th>\n",
       "      <td>31.608856</td>\n",
       "      <td>30.0</td>\n",
       "    </tr>\n",
       "  </tbody>\n",
       "</table>\n",
       "</div>"
      ],
      "text/plain": [
       "            mean  median\n",
       "who                     \n",
       "child   6.369518     5.0\n",
       "man    32.440410    30.0\n",
       "woman  31.608856    30.0"
      ]
     },
     "execution_count": 122,
     "metadata": {},
     "output_type": "execute_result"
    }
   ],
   "source": [
    "grouped_diff['age']"
   ]
  },
  {
   "cell_type": "markdown",
   "metadata": {},
   "source": [
    "To get a specific column, access it similarly:"
   ]
  },
  {
   "cell_type": "code",
   "execution_count": 123,
   "metadata": {},
   "outputs": [
    {
     "data": {
      "text/plain": [
       "who\n",
       "child     6.369518\n",
       "man      32.440410\n",
       "woman    31.608856\n",
       "Name: mean, dtype: float64"
      ]
     },
     "execution_count": 123,
     "metadata": {},
     "output_type": "execute_result"
    }
   ],
   "source": [
    "grouped_diff['age']['mean']"
   ]
  },
  {
   "cell_type": "markdown",
   "metadata": {},
   "source": [
    "Now I'll move on to filtering on grouped results\n",
    "\n",
    "### Filtered Results by Group\n",
    "\n",
    "Sometimes, I might want to filter grouped results using the `filter` command I showed earlier. Recall the simple data I created; I'll add some more data:"
   ]
  },
  {
   "cell_type": "code",
   "execution_count": 125,
   "metadata": {},
   "outputs": [
    {
     "data": {
      "text/html": [
       "<div>\n",
       "<style scoped>\n",
       "    .dataframe tbody tr th:only-of-type {\n",
       "        vertical-align: middle;\n",
       "    }\n",
       "\n",
       "    .dataframe tbody tr th {\n",
       "        vertical-align: top;\n",
       "    }\n",
       "\n",
       "    .dataframe thead th {\n",
       "        text-align: right;\n",
       "    }\n",
       "</style>\n",
       "<table border=\"1\" class=\"dataframe\">\n",
       "  <thead>\n",
       "    <tr style=\"text-align: right;\">\n",
       "      <th></th>\n",
       "      <th>name</th>\n",
       "      <th>number</th>\n",
       "      <th>type</th>\n",
       "      <th>orders</th>\n",
       "    </tr>\n",
       "  </thead>\n",
       "  <tbody>\n",
       "    <tr>\n",
       "      <th>0</th>\n",
       "      <td>Sandy</td>\n",
       "      <td>1</td>\n",
       "      <td>sandwich</td>\n",
       "      <td>14</td>\n",
       "    </tr>\n",
       "    <tr>\n",
       "      <th>1</th>\n",
       "      <td>Jenny</td>\n",
       "      <td>5</td>\n",
       "      <td>meatball</td>\n",
       "      <td>21</td>\n",
       "    </tr>\n",
       "    <tr>\n",
       "      <th>2</th>\n",
       "      <td>Willian</td>\n",
       "      <td>3</td>\n",
       "      <td>sandwich</td>\n",
       "      <td>12</td>\n",
       "    </tr>\n",
       "    <tr>\n",
       "      <th>3</th>\n",
       "      <td>Juan</td>\n",
       "      <td>7</td>\n",
       "      <td>hotdog</td>\n",
       "      <td>15</td>\n",
       "    </tr>\n",
       "    <tr>\n",
       "      <th>4</th>\n",
       "      <td>Sandy</td>\n",
       "      <td>1</td>\n",
       "      <td>hotdog</td>\n",
       "      <td>16</td>\n",
       "    </tr>\n",
       "    <tr>\n",
       "      <th>5</th>\n",
       "      <td>Willian</td>\n",
       "      <td>3</td>\n",
       "      <td>meatball</td>\n",
       "      <td>11</td>\n",
       "    </tr>\n",
       "  </tbody>\n",
       "</table>\n",
       "</div>"
      ],
      "text/plain": [
       "      name  number      type  orders\n",
       "0    Sandy       1  sandwich      14\n",
       "1    Jenny       5  meatball      21\n",
       "2  Willian       3  sandwich      12\n",
       "3     Juan       7    hotdog      15\n",
       "4    Sandy       1    hotdog      16\n",
       "5  Willian       3  meatball      11"
      ]
     },
     "execution_count": 125,
     "metadata": {},
     "output_type": "execute_result"
    }
   ],
   "source": [
    "# Print the simple one\n",
    "sample_df['orders'] = [14, 21, 12, 15, 16, 11]\n",
    "sample_df"
   ]
  },
  {
   "cell_type": "markdown",
   "metadata": {},
   "source": [
    "Now suppose I want only the folks with average order above 13; this will eliminate Willian:"
   ]
  },
  {
   "cell_type": "code",
   "execution_count": 128,
   "metadata": {},
   "outputs": [
    {
     "data": {
      "text/html": [
       "<div>\n",
       "<style scoped>\n",
       "    .dataframe tbody tr th:only-of-type {\n",
       "        vertical-align: middle;\n",
       "    }\n",
       "\n",
       "    .dataframe tbody tr th {\n",
       "        vertical-align: top;\n",
       "    }\n",
       "\n",
       "    .dataframe thead th {\n",
       "        text-align: right;\n",
       "    }\n",
       "</style>\n",
       "<table border=\"1\" class=\"dataframe\">\n",
       "  <thead>\n",
       "    <tr style=\"text-align: right;\">\n",
       "      <th></th>\n",
       "      <th>name</th>\n",
       "      <th>number</th>\n",
       "      <th>type</th>\n",
       "      <th>orders</th>\n",
       "    </tr>\n",
       "  </thead>\n",
       "  <tbody>\n",
       "    <tr>\n",
       "      <th>0</th>\n",
       "      <td>Sandy</td>\n",
       "      <td>1</td>\n",
       "      <td>sandwich</td>\n",
       "      <td>14</td>\n",
       "    </tr>\n",
       "    <tr>\n",
       "      <th>1</th>\n",
       "      <td>Jenny</td>\n",
       "      <td>5</td>\n",
       "      <td>meatball</td>\n",
       "      <td>21</td>\n",
       "    </tr>\n",
       "    <tr>\n",
       "      <th>3</th>\n",
       "      <td>Juan</td>\n",
       "      <td>7</td>\n",
       "      <td>hotdog</td>\n",
       "      <td>15</td>\n",
       "    </tr>\n",
       "    <tr>\n",
       "      <th>4</th>\n",
       "      <td>Sandy</td>\n",
       "      <td>1</td>\n",
       "      <td>hotdog</td>\n",
       "      <td>16</td>\n",
       "    </tr>\n",
       "  </tbody>\n",
       "</table>\n",
       "</div>"
      ],
      "text/plain": [
       "    name  number      type  orders\n",
       "0  Sandy       1  sandwich      14\n",
       "1  Jenny       5  meatball      21\n",
       "3   Juan       7    hotdog      15\n",
       "4  Sandy       1    hotdog      16"
      ]
     },
     "execution_count": 128,
     "metadata": {},
     "output_type": "execute_result"
    }
   ],
   "source": [
    "sample_df.groupby('name').filter(lambda x: x['orders'].mean() > 13)"
   ]
  },
  {
   "cell_type": "markdown",
   "metadata": {},
   "source": [
    "**Note: this doesn't collapse records, but it does let you filter based on grouped values**\n",
    "\n",
    "Now I'll move on to the complex machinations of using `transform`\n",
    "\n",
    "### Grouping + Transforming\n",
    "\n",
    "The `transform` function lets me apply a funciton to grouped data, but keep the original shape of the data. It's similar to a window function, so I can do things like calculate group-based means for each record, but add them as a new column rather than collapsing the data.\n",
    "\n",
    "Here's `transform` to create a columns with group-based means of orders:"
   ]
  },
  {
   "cell_type": "code",
   "execution_count": 164,
   "metadata": {},
   "outputs": [
    {
     "data": {
      "text/plain": [
       "0    15.0\n",
       "1    21.0\n",
       "2    11.5\n",
       "3    15.0\n",
       "4    15.0\n",
       "5    11.5\n",
       "Name: orders, dtype: float64"
      ]
     },
     "execution_count": 164,
     "metadata": {},
     "output_type": "execute_result"
    }
   ],
   "source": [
    "sample_df.groupby('name')['orders'].transform(np.mean)"
   ]
  },
  {
   "cell_type": "markdown",
   "metadata": {},
   "source": [
    "I can of course use other functions, such as my range function:"
   ]
  },
  {
   "cell_type": "code",
   "execution_count": 165,
   "metadata": {},
   "outputs": [
    {
     "data": {
      "text/plain": [
       "0    2\n",
       "1    0\n",
       "2    1\n",
       "3    0\n",
       "4    2\n",
       "5    1\n",
       "Name: orders, dtype: int64"
      ]
     },
     "execution_count": 165,
     "metadata": {},
     "output_type": "execute_result"
    }
   ],
   "source": [
    "sample_df.groupby('name')['orders'].transform(lambda x: max(x) - min(x))"
   ]
  },
  {
   "cell_type": "markdown",
   "metadata": {},
   "source": [
    "This is much faster than the alternate way of doing it, which would be:\n",
    "\n",
    "* Group data\n",
    "* Get grouped aggregate values as a data frame\n",
    "* Merge with the original data to add it as a full column\n",
    "\n",
    "Now I'll move on to a similar set of things: manipulating values with built-in functions"
   ]
  },
  {
   "cell_type": "markdown",
   "metadata": {},
   "source": [
    "## Value Manipulations: Applying and Mapping\n",
    "\n",
    "This is a grouping of several very important methods for manipulating variables in a dataframe. For this, I think I'll create some new toy data. In order, here's what each operation does:\n",
    "\n",
    "* `apply` : apply a function over 1 direction of a data frame; means you can do means, mins, etc. in 1 direction easily\n",
    "    * e.g. Apply a function across rows and save it as a new column\n",
    "    * Only necessary for things that aren't data frame methods (mean, median, and others are already methods)\n",
    "* `map` : similar to `apply`, but it applies the function element-wise to a *series*\n",
    "    * e.g. Apply some sort of formatting change to a column to save as a new column\n",
    "* `applymap` : blend of `apply` and `map`, in that it applies a function element-wise but does it on a data frame\n",
    "    * e.g. Apply some sort of formatting change to the whole data frame\n",
    "    \n",
    "Let's tackle these 1 at a time:\n",
    "\n",
    "### Using `apply` on Data Frames\n",
    "\n",
    "If I want something like column-wise ranges, then `apply` works really well. Let's quickly make new data, something like trials of a measurement:"
   ]
  },
  {
   "cell_type": "code",
   "execution_count": 139,
   "metadata": {},
   "outputs": [
    {
     "data": {
      "text/html": [
       "<div>\n",
       "<style scoped>\n",
       "    .dataframe tbody tr th:only-of-type {\n",
       "        vertical-align: middle;\n",
       "    }\n",
       "\n",
       "    .dataframe tbody tr th {\n",
       "        vertical-align: top;\n",
       "    }\n",
       "\n",
       "    .dataframe thead th {\n",
       "        text-align: right;\n",
       "    }\n",
       "</style>\n",
       "<table border=\"1\" class=\"dataframe\">\n",
       "  <thead>\n",
       "    <tr style=\"text-align: right;\">\n",
       "      <th></th>\n",
       "      <th>sample</th>\n",
       "      <th>trial1</th>\n",
       "      <th>trial2</th>\n",
       "      <th>trial3</th>\n",
       "    </tr>\n",
       "  </thead>\n",
       "  <tbody>\n",
       "    <tr>\n",
       "      <th>0</th>\n",
       "      <td>1</td>\n",
       "      <td>1</td>\n",
       "      <td>3</td>\n",
       "      <td>4</td>\n",
       "    </tr>\n",
       "    <tr>\n",
       "      <th>1</th>\n",
       "      <td>1</td>\n",
       "      <td>7</td>\n",
       "      <td>5</td>\n",
       "      <td>4</td>\n",
       "    </tr>\n",
       "    <tr>\n",
       "      <th>2</th>\n",
       "      <td>2</td>\n",
       "      <td>5</td>\n",
       "      <td>4</td>\n",
       "      <td>3</td>\n",
       "    </tr>\n",
       "    <tr>\n",
       "      <th>3</th>\n",
       "      <td>2</td>\n",
       "      <td>6</td>\n",
       "      <td>5</td>\n",
       "      <td>3</td>\n",
       "    </tr>\n",
       "    <tr>\n",
       "      <th>4</th>\n",
       "      <td>3</td>\n",
       "      <td>1</td>\n",
       "      <td>2</td>\n",
       "      <td>4</td>\n",
       "    </tr>\n",
       "    <tr>\n",
       "      <th>5</th>\n",
       "      <td>3</td>\n",
       "      <td>9</td>\n",
       "      <td>6</td>\n",
       "      <td>8</td>\n",
       "    </tr>\n",
       "    <tr>\n",
       "      <th>6</th>\n",
       "      <td>4</td>\n",
       "      <td>1</td>\n",
       "      <td>3</td>\n",
       "      <td>4</td>\n",
       "    </tr>\n",
       "    <tr>\n",
       "      <th>7</th>\n",
       "      <td>4</td>\n",
       "      <td>4</td>\n",
       "      <td>3</td>\n",
       "      <td>2</td>\n",
       "    </tr>\n",
       "  </tbody>\n",
       "</table>\n",
       "</div>"
      ],
      "text/plain": [
       "   sample  trial1  trial2  trial3\n",
       "0       1       1       3       4\n",
       "1       1       7       5       4\n",
       "2       2       5       4       3\n",
       "3       2       6       5       3\n",
       "4       3       1       2       4\n",
       "5       3       9       6       8\n",
       "6       4       1       3       4\n",
       "7       4       4       3       2"
      ]
     },
     "execution_count": 139,
     "metadata": {},
     "output_type": "execute_result"
    }
   ],
   "source": [
    "trials = pd.DataFrame({'sample' : [1,1,2,2,3,3,4,4],\n",
    "                       'trial1' : [1,7,5,6,1,9,1,4],\n",
    "                       'trial2' : [3,5,4,5,2,6,3,3],\n",
    "                       'trial3' : [4,4,3,3,4,8,4,2]})\n",
    "trials"
   ]
  },
  {
   "cell_type": "markdown",
   "metadata": {},
   "source": [
    "Now let's apply the range over the columns (not rows):"
   ]
  },
  {
   "cell_type": "code",
   "execution_count": 140,
   "metadata": {},
   "outputs": [
    {
     "data": {
      "text/plain": [
       "sample    3\n",
       "trial1    8\n",
       "trial2    4\n",
       "trial3    6\n",
       "dtype: int64"
      ]
     },
     "execution_count": 140,
     "metadata": {},
     "output_type": "execute_result"
    }
   ],
   "source": [
    "# Take the ranges of the numeric columns\n",
    "trials.apply(lambda x: max(x) - min(x), axis = 0)"
   ]
  },
  {
   "cell_type": "markdown",
   "metadata": {},
   "source": [
    "If I wanted the mean of the 2 columns, I could do the same, but there's already a built-in function. \n",
    "\n",
    "I can also apply the same function across rows:"
   ]
  },
  {
   "cell_type": "code",
   "execution_count": 156,
   "metadata": {},
   "outputs": [
    {
     "data": {
      "text/plain": [
       "0    3\n",
       "1    6\n",
       "2    3\n",
       "3    4\n",
       "4    3\n",
       "5    6\n",
       "6    3\n",
       "7    2\n",
       "dtype: int64"
      ]
     },
     "execution_count": 156,
     "metadata": {},
     "output_type": "execute_result"
    }
   ],
   "source": [
    "trials.apply(lambda x: max(x) - min(x), axis = 1)"
   ]
  },
  {
   "cell_type": "markdown",
   "metadata": {},
   "source": [
    "I can also pass additional arguments, such as this:"
   ]
  },
  {
   "cell_type": "code",
   "execution_count": 157,
   "metadata": {},
   "outputs": [],
   "source": [
    "# function for adding a supplied number\n",
    "def add_integer(x, num):\n",
    "    return x + num"
   ]
  },
  {
   "cell_type": "markdown",
   "metadata": {},
   "source": [
    "So say that I wanted to add 10 to each value, I could do that using `apply`:"
   ]
  },
  {
   "cell_type": "code",
   "execution_count": 160,
   "metadata": {},
   "outputs": [
    {
     "data": {
      "text/html": [
       "<div>\n",
       "<style scoped>\n",
       "    .dataframe tbody tr th:only-of-type {\n",
       "        vertical-align: middle;\n",
       "    }\n",
       "\n",
       "    .dataframe tbody tr th {\n",
       "        vertical-align: top;\n",
       "    }\n",
       "\n",
       "    .dataframe thead th {\n",
       "        text-align: right;\n",
       "    }\n",
       "</style>\n",
       "<table border=\"1\" class=\"dataframe\">\n",
       "  <thead>\n",
       "    <tr style=\"text-align: right;\">\n",
       "      <th></th>\n",
       "      <th>sample</th>\n",
       "      <th>trial1</th>\n",
       "      <th>trial2</th>\n",
       "      <th>trial3</th>\n",
       "    </tr>\n",
       "  </thead>\n",
       "  <tbody>\n",
       "    <tr>\n",
       "      <th>0</th>\n",
       "      <td>11</td>\n",
       "      <td>11</td>\n",
       "      <td>13</td>\n",
       "      <td>14</td>\n",
       "    </tr>\n",
       "    <tr>\n",
       "      <th>1</th>\n",
       "      <td>11</td>\n",
       "      <td>17</td>\n",
       "      <td>15</td>\n",
       "      <td>14</td>\n",
       "    </tr>\n",
       "    <tr>\n",
       "      <th>2</th>\n",
       "      <td>12</td>\n",
       "      <td>15</td>\n",
       "      <td>14</td>\n",
       "      <td>13</td>\n",
       "    </tr>\n",
       "    <tr>\n",
       "      <th>3</th>\n",
       "      <td>12</td>\n",
       "      <td>16</td>\n",
       "      <td>15</td>\n",
       "      <td>13</td>\n",
       "    </tr>\n",
       "    <tr>\n",
       "      <th>4</th>\n",
       "      <td>13</td>\n",
       "      <td>11</td>\n",
       "      <td>12</td>\n",
       "      <td>14</td>\n",
       "    </tr>\n",
       "    <tr>\n",
       "      <th>5</th>\n",
       "      <td>13</td>\n",
       "      <td>19</td>\n",
       "      <td>16</td>\n",
       "      <td>18</td>\n",
       "    </tr>\n",
       "    <tr>\n",
       "      <th>6</th>\n",
       "      <td>14</td>\n",
       "      <td>11</td>\n",
       "      <td>13</td>\n",
       "      <td>14</td>\n",
       "    </tr>\n",
       "    <tr>\n",
       "      <th>7</th>\n",
       "      <td>14</td>\n",
       "      <td>14</td>\n",
       "      <td>13</td>\n",
       "      <td>12</td>\n",
       "    </tr>\n",
       "  </tbody>\n",
       "</table>\n",
       "</div>"
      ],
      "text/plain": [
       "   sample  trial1  trial2  trial3\n",
       "0      11      11      13      14\n",
       "1      11      17      15      14\n",
       "2      12      15      14      13\n",
       "3      12      16      15      13\n",
       "4      13      11      12      14\n",
       "5      13      19      16      18\n",
       "6      14      11      13      14\n",
       "7      14      14      13      12"
      ]
     },
     "execution_count": 160,
     "metadata": {},
     "output_type": "execute_result"
    }
   ],
   "source": [
    "trials.apply(add_integer, args = (10,))"
   ]
  },
  {
   "cell_type": "markdown",
   "metadata": {},
   "source": [
    "I think you can use `apply` with `groupby`, but I can't find a good time to do it, so I won't. "
   ]
  },
  {
   "cell_type": "markdown",
   "metadata": {},
   "source": [
    "### Using `map` on Series\n",
    "\n",
    "The `map` method is made to do something similar, but only on a Series:"
   ]
  },
  {
   "cell_type": "code",
   "execution_count": 169,
   "metadata": {},
   "outputs": [
    {
     "data": {
      "text/plain": [
       "0     2\n",
       "1     8\n",
       "2     6\n",
       "3     7\n",
       "4     2\n",
       "5    10\n",
       "6     2\n",
       "7     5\n",
       "Name: trial1, dtype: int64"
      ]
     },
     "execution_count": 169,
     "metadata": {},
     "output_type": "execute_result"
    }
   ],
   "source": [
    "trials['trial1'].map(lambda x: x + 1)"
   ]
  },
  {
   "cell_type": "markdown",
   "metadata": {},
   "source": [
    "It's most useful with custom functions and things like that. Or for formatting:"
   ]
  },
  {
   "cell_type": "code",
   "execution_count": 172,
   "metadata": {},
   "outputs": [
    {
     "data": {
      "text/plain": [
       "0    1.0\n",
       "1    7.0\n",
       "2    5.0\n",
       "3    6.0\n",
       "4    1.0\n",
       "5    9.0\n",
       "6    1.0\n",
       "7    4.0\n",
       "Name: trial1, dtype: object"
      ]
     },
     "execution_count": 172,
     "metadata": {},
     "output_type": "execute_result"
    }
   ],
   "source": [
    "trials['trial1'].map(lambda x: ('{:0.1f}'.format(x)))"
   ]
  },
  {
   "cell_type": "markdown",
   "metadata": {},
   "source": [
    "I can also use it to put together 2 series based on their values, but I won't bother here\n",
    "\n",
    "### Using `applymap` on Data Frames\n",
    "\n",
    "The idea with `applymap` is that we can apply a function to the whole data frame, element-by-element. This is different from `apply`, which does it by axis. So we can, e.g., format:"
   ]
  },
  {
   "cell_type": "code",
   "execution_count": 173,
   "metadata": {},
   "outputs": [
    {
     "data": {
      "text/html": [
       "<div>\n",
       "<style scoped>\n",
       "    .dataframe tbody tr th:only-of-type {\n",
       "        vertical-align: middle;\n",
       "    }\n",
       "\n",
       "    .dataframe tbody tr th {\n",
       "        vertical-align: top;\n",
       "    }\n",
       "\n",
       "    .dataframe thead th {\n",
       "        text-align: right;\n",
       "    }\n",
       "</style>\n",
       "<table border=\"1\" class=\"dataframe\">\n",
       "  <thead>\n",
       "    <tr style=\"text-align: right;\">\n",
       "      <th></th>\n",
       "      <th>sample</th>\n",
       "      <th>trial1</th>\n",
       "      <th>trial2</th>\n",
       "      <th>trial3</th>\n",
       "    </tr>\n",
       "  </thead>\n",
       "  <tbody>\n",
       "    <tr>\n",
       "      <th>0</th>\n",
       "      <td>1.0</td>\n",
       "      <td>1.0</td>\n",
       "      <td>3.0</td>\n",
       "      <td>4.0</td>\n",
       "    </tr>\n",
       "    <tr>\n",
       "      <th>1</th>\n",
       "      <td>1.0</td>\n",
       "      <td>7.0</td>\n",
       "      <td>5.0</td>\n",
       "      <td>4.0</td>\n",
       "    </tr>\n",
       "    <tr>\n",
       "      <th>2</th>\n",
       "      <td>2.0</td>\n",
       "      <td>5.0</td>\n",
       "      <td>4.0</td>\n",
       "      <td>3.0</td>\n",
       "    </tr>\n",
       "    <tr>\n",
       "      <th>3</th>\n",
       "      <td>2.0</td>\n",
       "      <td>6.0</td>\n",
       "      <td>5.0</td>\n",
       "      <td>3.0</td>\n",
       "    </tr>\n",
       "    <tr>\n",
       "      <th>4</th>\n",
       "      <td>3.0</td>\n",
       "      <td>1.0</td>\n",
       "      <td>2.0</td>\n",
       "      <td>4.0</td>\n",
       "    </tr>\n",
       "    <tr>\n",
       "      <th>5</th>\n",
       "      <td>3.0</td>\n",
       "      <td>9.0</td>\n",
       "      <td>6.0</td>\n",
       "      <td>8.0</td>\n",
       "    </tr>\n",
       "    <tr>\n",
       "      <th>6</th>\n",
       "      <td>4.0</td>\n",
       "      <td>1.0</td>\n",
       "      <td>3.0</td>\n",
       "      <td>4.0</td>\n",
       "    </tr>\n",
       "    <tr>\n",
       "      <th>7</th>\n",
       "      <td>4.0</td>\n",
       "      <td>4.0</td>\n",
       "      <td>3.0</td>\n",
       "      <td>2.0</td>\n",
       "    </tr>\n",
       "  </tbody>\n",
       "</table>\n",
       "</div>"
      ],
      "text/plain": [
       "  sample trial1 trial2 trial3\n",
       "0    1.0    1.0    3.0    4.0\n",
       "1    1.0    7.0    5.0    4.0\n",
       "2    2.0    5.0    4.0    3.0\n",
       "3    2.0    6.0    5.0    3.0\n",
       "4    3.0    1.0    2.0    4.0\n",
       "5    3.0    9.0    6.0    8.0\n",
       "6    4.0    1.0    3.0    4.0\n",
       "7    4.0    4.0    3.0    2.0"
      ]
     },
     "execution_count": 173,
     "metadata": {},
     "output_type": "execute_result"
    }
   ],
   "source": [
    "trials.applymap(lambda x: ('{:0.1f}'.format(x)))"
   ]
  },
  {
   "cell_type": "markdown",
   "metadata": {},
   "source": [
    "With all this talk about reformatting, this seems as good a time as any to move to melting and pivoting\n",
    "\n",
    "## Reshaping: Melting and Pivoting\n",
    "\n",
    "These 2 are used to re-shape the data, either to make it into a long form (melting) or a wide form (pivoting). \n",
    "\n",
    "As an example, let's take this sample data on trials and reshape it:\n",
    "\n",
    "### Melting Data\n",
    "\n",
    "Melting the trial data will make it long, which is sometime easier for plotting (among other things). Important variables to specify:\n",
    "\n",
    "* `id_vars` : record identifiers; won't get melted\n",
    "* `value_vars` : values to melt; if it's unspecified, it'll be everything not in `id_vars`\n",
    "* `var_name` : What to call the melted variables\n",
    "* `value_name` : What to call the melted values"
   ]
  },
  {
   "cell_type": "code",
   "execution_count": 185,
   "metadata": {},
   "outputs": [
    {
     "name": "stdout",
     "output_type": "stream",
     "text": [
      "<class 'pandas.core.frame.DataFrame'>\n",
      "RangeIndex: 24 entries, 0 to 23\n",
      "Data columns (total 3 columns):\n",
      "sample    24 non-null int64\n",
      "Trial     24 non-null object\n",
      "Number    24 non-null int64\n",
      "dtypes: int64(2), object(1)\n",
      "memory usage: 656.0+ bytes\n"
     ]
    }
   ],
   "source": [
    "# Melt with samples as IDs; name the results\n",
    "generic_melt = pd.melt(trials, id_vars=\"sample\",\n",
    "                       var_name = 'Trial',\n",
    "                       value_name = 'Number')\n",
    "generic_melt.info()"
   ]
  },
  {
   "cell_type": "markdown",
   "metadata": {},
   "source": [
    "As shown, I get 24 rows (3 different trials, 8 different samples). If I decide to specify the `value_vars`, I get something slightly different; in this case, suppose that I don't want the first trial because it's messed up:"
   ]
  },
  {
   "cell_type": "code",
   "execution_count": 183,
   "metadata": {},
   "outputs": [
    {
     "name": "stdout",
     "output_type": "stream",
     "text": [
      "<class 'pandas.core.frame.DataFrame'>\n",
      "RangeIndex: 16 entries, 0 to 15\n",
      "Data columns (total 3 columns):\n",
      "sample    16 non-null int64\n",
      "Trial     16 non-null object\n",
      "Number    16 non-null int64\n",
      "dtypes: int64(2), object(1)\n",
      "memory usage: 464.0+ bytes\n"
     ]
    }
   ],
   "source": [
    "# Melt with samples as IDs; name the results\n",
    "pd.melt(trials, id_vars=\"sample\",\n",
    "        value_vars = ['trial2','trial3'],\n",
    "        var_name = 'Trial',\n",
    "        value_name = 'Number').info()"
   ]
  },
  {
   "cell_type": "markdown",
   "metadata": {},
   "source": [
    "By specifying this argument, I've grabbed just the columns I want. It's great! \n",
    "\n",
    "Now let's move to how to go back to wide from the `generic_melt` data\n",
    "\n",
    "### Pivoting Data\n",
    "\n",
    "This is how to get back to wide data; I will basically always use `pivot_table` as it's more flexible than the plain `pivot` method. Again, there's some things to specify:\n",
    "\n",
    "* `index` : column(s) to use as the IDs\n",
    "* `columns` : columns to pivot\n",
    "* `aggfunc` : function(s) to aggregate if there's duplicate records\n",
    "* `fill_value` : used to replace missing values; super useful if you're pivoting to make a heat map and you need 0's for the missing values\n",
    "\n",
    "Because we've got duplicate samples, I'll specify the aggregation function as the median"
   ]
  },
  {
   "cell_type": "code",
   "execution_count": 188,
   "metadata": {},
   "outputs": [
    {
     "data": {
      "text/html": [
       "<div>\n",
       "<style scoped>\n",
       "    .dataframe tbody tr th:only-of-type {\n",
       "        vertical-align: middle;\n",
       "    }\n",
       "\n",
       "    .dataframe tbody tr th {\n",
       "        vertical-align: top;\n",
       "    }\n",
       "\n",
       "    .dataframe thead tr th {\n",
       "        text-align: left;\n",
       "    }\n",
       "\n",
       "    .dataframe thead tr:last-of-type th {\n",
       "        text-align: right;\n",
       "    }\n",
       "</style>\n",
       "<table border=\"1\" class=\"dataframe\">\n",
       "  <thead>\n",
       "    <tr>\n",
       "      <th></th>\n",
       "      <th colspan=\"3\" halign=\"left\">Number</th>\n",
       "    </tr>\n",
       "    <tr>\n",
       "      <th>Trial</th>\n",
       "      <th>trial1</th>\n",
       "      <th>trial2</th>\n",
       "      <th>trial3</th>\n",
       "    </tr>\n",
       "    <tr>\n",
       "      <th>sample</th>\n",
       "      <th></th>\n",
       "      <th></th>\n",
       "      <th></th>\n",
       "    </tr>\n",
       "  </thead>\n",
       "  <tbody>\n",
       "    <tr>\n",
       "      <th>1</th>\n",
       "      <td>4.0</td>\n",
       "      <td>4.0</td>\n",
       "      <td>4.0</td>\n",
       "    </tr>\n",
       "    <tr>\n",
       "      <th>2</th>\n",
       "      <td>5.5</td>\n",
       "      <td>4.5</td>\n",
       "      <td>3.0</td>\n",
       "    </tr>\n",
       "    <tr>\n",
       "      <th>3</th>\n",
       "      <td>5.0</td>\n",
       "      <td>4.0</td>\n",
       "      <td>6.0</td>\n",
       "    </tr>\n",
       "    <tr>\n",
       "      <th>4</th>\n",
       "      <td>2.5</td>\n",
       "      <td>3.0</td>\n",
       "      <td>3.0</td>\n",
       "    </tr>\n",
       "  </tbody>\n",
       "</table>\n",
       "</div>"
      ],
      "text/plain": [
       "       Number              \n",
       "Trial  trial1 trial2 trial3\n",
       "sample                     \n",
       "1         4.0    4.0    4.0\n",
       "2         5.5    4.5    3.0\n",
       "3         5.0    4.0    6.0\n",
       "4         2.5    3.0    3.0"
      ]
     },
     "execution_count": 188,
     "metadata": {},
     "output_type": "execute_result"
    }
   ],
   "source": [
    "generic_melt.pivot_table(index = 'sample', columns = 'Trial',\n",
    "                         aggfunc = np.median)"
   ]
  },
  {
   "cell_type": "markdown",
   "metadata": {},
   "source": [
    "I think that's it for pivoting. \n",
    "\n",
    "## Date-Time Manipulations\n",
    "\n",
    "Dates and times are themselves a pain in the butt. Some things I want to cover here:\n",
    "\n",
    "* Creating a date-time column\n",
    "* Separating date-time into its components\n",
    "\n",
    "I'll add more as I think of them\n",
    "\n",
    "### Creating a date-time column\n",
    "\n",
    "For this, I need data with some date/time information. I'll load the `flights` dataset for this:"
   ]
  },
  {
   "cell_type": "code",
   "execution_count": 190,
   "metadata": {},
   "outputs": [
    {
     "data": {
      "text/html": [
       "<div>\n",
       "<style scoped>\n",
       "    .dataframe tbody tr th:only-of-type {\n",
       "        vertical-align: middle;\n",
       "    }\n",
       "\n",
       "    .dataframe tbody tr th {\n",
       "        vertical-align: top;\n",
       "    }\n",
       "\n",
       "    .dataframe thead th {\n",
       "        text-align: right;\n",
       "    }\n",
       "</style>\n",
       "<table border=\"1\" class=\"dataframe\">\n",
       "  <thead>\n",
       "    <tr style=\"text-align: right;\">\n",
       "      <th></th>\n",
       "      <th>year</th>\n",
       "      <th>month</th>\n",
       "      <th>passengers</th>\n",
       "    </tr>\n",
       "  </thead>\n",
       "  <tbody>\n",
       "    <tr>\n",
       "      <th>0</th>\n",
       "      <td>1949</td>\n",
       "      <td>January</td>\n",
       "      <td>112</td>\n",
       "    </tr>\n",
       "    <tr>\n",
       "      <th>1</th>\n",
       "      <td>1949</td>\n",
       "      <td>February</td>\n",
       "      <td>118</td>\n",
       "    </tr>\n",
       "    <tr>\n",
       "      <th>2</th>\n",
       "      <td>1949</td>\n",
       "      <td>March</td>\n",
       "      <td>132</td>\n",
       "    </tr>\n",
       "    <tr>\n",
       "      <th>3</th>\n",
       "      <td>1949</td>\n",
       "      <td>April</td>\n",
       "      <td>129</td>\n",
       "    </tr>\n",
       "    <tr>\n",
       "      <th>4</th>\n",
       "      <td>1949</td>\n",
       "      <td>May</td>\n",
       "      <td>121</td>\n",
       "    </tr>\n",
       "  </tbody>\n",
       "</table>\n",
       "</div>"
      ],
      "text/plain": [
       "   year     month  passengers\n",
       "0  1949   January         112\n",
       "1  1949  February         118\n",
       "2  1949     March         132\n",
       "3  1949     April         129\n",
       "4  1949       May         121"
      ]
     },
     "execution_count": 190,
     "metadata": {},
     "output_type": "execute_result"
    }
   ],
   "source": [
    "flights = sns.load_dataset('flights')\n",
    "flights.head()"
   ]
  },
  {
   "cell_type": "markdown",
   "metadata": {},
   "source": [
    "This one is particularly pesky because it's got the month as a word rather than a number. I'll show how to do the following:\n",
    "\n",
    "* Add a \"day\" column that just uses the first day of each month\n",
    "* Use the 3 different date columns to create 1 \"Date\" column\n",
    "* Turn it into an actual date-time type\n",
    "\n",
    "First 2 steps here:"
   ]
  },
  {
   "cell_type": "code",
   "execution_count": 193,
   "metadata": {},
   "outputs": [
    {
     "name": "stdout",
     "output_type": "stream",
     "text": [
      "<class 'pandas.core.frame.DataFrame'>\n",
      "RangeIndex: 144 entries, 0 to 143\n",
      "Data columns (total 5 columns):\n",
      "year          144 non-null int64\n",
      "month         144 non-null category\n",
      "passengers    144 non-null int64\n",
      "day           144 non-null int64\n",
      "Date          144 non-null object\n",
      "dtypes: category(1), int64(3), object(1)\n",
      "memory usage: 5.1+ KB\n",
      "None\n"
     ]
    },
    {
     "data": {
      "text/html": [
       "<div>\n",
       "<style scoped>\n",
       "    .dataframe tbody tr th:only-of-type {\n",
       "        vertical-align: middle;\n",
       "    }\n",
       "\n",
       "    .dataframe tbody tr th {\n",
       "        vertical-align: top;\n",
       "    }\n",
       "\n",
       "    .dataframe thead th {\n",
       "        text-align: right;\n",
       "    }\n",
       "</style>\n",
       "<table border=\"1\" class=\"dataframe\">\n",
       "  <thead>\n",
       "    <tr style=\"text-align: right;\">\n",
       "      <th></th>\n",
       "      <th>year</th>\n",
       "      <th>month</th>\n",
       "      <th>passengers</th>\n",
       "      <th>day</th>\n",
       "      <th>Date</th>\n",
       "    </tr>\n",
       "  </thead>\n",
       "  <tbody>\n",
       "    <tr>\n",
       "      <th>0</th>\n",
       "      <td>1949</td>\n",
       "      <td>January</td>\n",
       "      <td>112</td>\n",
       "      <td>1</td>\n",
       "      <td>1949-January-1</td>\n",
       "    </tr>\n",
       "    <tr>\n",
       "      <th>1</th>\n",
       "      <td>1949</td>\n",
       "      <td>February</td>\n",
       "      <td>118</td>\n",
       "      <td>1</td>\n",
       "      <td>1949-February-1</td>\n",
       "    </tr>\n",
       "    <tr>\n",
       "      <th>2</th>\n",
       "      <td>1949</td>\n",
       "      <td>March</td>\n",
       "      <td>132</td>\n",
       "      <td>1</td>\n",
       "      <td>1949-March-1</td>\n",
       "    </tr>\n",
       "    <tr>\n",
       "      <th>3</th>\n",
       "      <td>1949</td>\n",
       "      <td>April</td>\n",
       "      <td>129</td>\n",
       "      <td>1</td>\n",
       "      <td>1949-April-1</td>\n",
       "    </tr>\n",
       "    <tr>\n",
       "      <th>4</th>\n",
       "      <td>1949</td>\n",
       "      <td>May</td>\n",
       "      <td>121</td>\n",
       "      <td>1</td>\n",
       "      <td>1949-May-1</td>\n",
       "    </tr>\n",
       "  </tbody>\n",
       "</table>\n",
       "</div>"
      ],
      "text/plain": [
       "   year     month  passengers  day             Date\n",
       "0  1949   January         112    1   1949-January-1\n",
       "1  1949  February         118    1  1949-February-1\n",
       "2  1949     March         132    1     1949-March-1\n",
       "3  1949     April         129    1     1949-April-1\n",
       "4  1949       May         121    1       1949-May-1"
      ]
     },
     "execution_count": 193,
     "metadata": {},
     "output_type": "execute_result"
    }
   ],
   "source": [
    "# Add a dummy column for day\n",
    "flights['day'] = 1\n",
    "\n",
    "# Turn to a date-time\n",
    "flights['Date'] = flights['year'].astype(str) + '-' + flights['month'].astype(str) + '-' + flights['day'].astype(str)\n",
    "print(flights.info())\n",
    "flights.head()"
   ]
  },
  {
   "cell_type": "markdown",
   "metadata": {},
   "source": [
    "Now I'll actually do the conversion"
   ]
  },
  {
   "cell_type": "code",
   "execution_count": 195,
   "metadata": {},
   "outputs": [
    {
     "name": "stdout",
     "output_type": "stream",
     "text": [
      "<class 'pandas.core.frame.DataFrame'>\n",
      "RangeIndex: 144 entries, 0 to 143\n",
      "Data columns (total 5 columns):\n",
      "year          144 non-null int64\n",
      "month         144 non-null category\n",
      "passengers    144 non-null int64\n",
      "day           144 non-null int64\n",
      "Date          144 non-null datetime64[ns]\n",
      "dtypes: category(1), datetime64[ns](1), int64(3)\n",
      "memory usage: 5.1 KB\n",
      "None\n"
     ]
    },
    {
     "data": {
      "text/html": [
       "<div>\n",
       "<style scoped>\n",
       "    .dataframe tbody tr th:only-of-type {\n",
       "        vertical-align: middle;\n",
       "    }\n",
       "\n",
       "    .dataframe tbody tr th {\n",
       "        vertical-align: top;\n",
       "    }\n",
       "\n",
       "    .dataframe thead th {\n",
       "        text-align: right;\n",
       "    }\n",
       "</style>\n",
       "<table border=\"1\" class=\"dataframe\">\n",
       "  <thead>\n",
       "    <tr style=\"text-align: right;\">\n",
       "      <th></th>\n",
       "      <th>year</th>\n",
       "      <th>month</th>\n",
       "      <th>passengers</th>\n",
       "      <th>day</th>\n",
       "      <th>Date</th>\n",
       "    </tr>\n",
       "  </thead>\n",
       "  <tbody>\n",
       "    <tr>\n",
       "      <th>0</th>\n",
       "      <td>1949</td>\n",
       "      <td>January</td>\n",
       "      <td>112</td>\n",
       "      <td>1</td>\n",
       "      <td>1949-01-01</td>\n",
       "    </tr>\n",
       "    <tr>\n",
       "      <th>1</th>\n",
       "      <td>1949</td>\n",
       "      <td>February</td>\n",
       "      <td>118</td>\n",
       "      <td>1</td>\n",
       "      <td>1949-02-01</td>\n",
       "    </tr>\n",
       "    <tr>\n",
       "      <th>2</th>\n",
       "      <td>1949</td>\n",
       "      <td>March</td>\n",
       "      <td>132</td>\n",
       "      <td>1</td>\n",
       "      <td>1949-03-01</td>\n",
       "    </tr>\n",
       "    <tr>\n",
       "      <th>3</th>\n",
       "      <td>1949</td>\n",
       "      <td>April</td>\n",
       "      <td>129</td>\n",
       "      <td>1</td>\n",
       "      <td>1949-04-01</td>\n",
       "    </tr>\n",
       "    <tr>\n",
       "      <th>4</th>\n",
       "      <td>1949</td>\n",
       "      <td>May</td>\n",
       "      <td>121</td>\n",
       "      <td>1</td>\n",
       "      <td>1949-05-01</td>\n",
       "    </tr>\n",
       "  </tbody>\n",
       "</table>\n",
       "</div>"
      ],
      "text/plain": [
       "   year     month  passengers  day       Date\n",
       "0  1949   January         112    1 1949-01-01\n",
       "1  1949  February         118    1 1949-02-01\n",
       "2  1949     March         132    1 1949-03-01\n",
       "3  1949     April         129    1 1949-04-01\n",
       "4  1949       May         121    1 1949-05-01"
      ]
     },
     "execution_count": 195,
     "metadata": {},
     "output_type": "execute_result"
    }
   ],
   "source": [
    "flights['Date'] = pd.to_datetime(flights['Date'], format = '%Y-%B-%d')\n",
    "print(flights.info())\n",
    "flights.head()"
   ]
  },
  {
   "cell_type": "markdown",
   "metadata": {},
   "source": [
    "That's all there is to it; the `format` argument lets me change what I'm looking for, but I can always look that up. \n",
    "\n",
    "### Separating a Date-Time\n",
    "\n",
    "Sometimes I find that I want to pull out the month or year, or something like that. It might be good for grouping or something like that. "
   ]
  }
 ],
 "metadata": {
  "kernelspec": {
   "display_name": "Python 3",
   "language": "python",
   "name": "python3"
  },
  "language_info": {
   "codemirror_mode": {
    "name": "ipython",
    "version": 3
   },
   "file_extension": ".py",
   "mimetype": "text/x-python",
   "name": "python",
   "nbconvert_exporter": "python",
   "pygments_lexer": "ipython3",
   "version": "3.6.6"
  },
  "toc": {
   "base_numbering": 1,
   "nav_menu": {},
   "number_sections": true,
   "sideBar": true,
   "skip_h1_title": false,
   "title_cell": "Table of Contents",
   "title_sidebar": "Contents",
   "toc_cell": true,
   "toc_position": {
    "height": "calc(100% - 180px)",
    "left": "10px",
    "top": "150px",
    "width": "216.398px"
   },
   "toc_section_display": true,
   "toc_window_display": true
  }
 },
 "nbformat": 4,
 "nbformat_minor": 2
}
